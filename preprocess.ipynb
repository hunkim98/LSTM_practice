{
 "cells": [
  {
   "cell_type": "code",
   "execution_count": 6,
   "metadata": {},
   "outputs": [],
   "source": [
    "import warnings\n",
    "from IPython.core.interactiveshell import InteractiveShell\n",
    "\n",
    "InteractiveShell.ast_node_interactivity = 'all'\n",
    "\n",
    "warnings.filterwarnings('ignore', category=RuntimeWarning)\n",
    "\n",
    "RANDOM_STATE = 50\n",
    "EPOCHS = 150\n",
    "BATCH_SIZE = 2048\n",
    "TRAINING_LENGTH = 50\n",
    "TRAIN_FRACTION = 0.7\n",
    "LSTM_CELLS = 64\n",
    "VERBOSE = 0\n",
    "SAVE_MODEL = True"
   ]
  },
  {
   "attachments": {},
   "cell_type": "markdown",
   "metadata": {},
   "source": [
    "# Read in data"
   ]
  },
  {
   "cell_type": "code",
   "execution_count": 7,
   "metadata": {},
   "outputs": [],
   "source": [
    "import pandas as pd\n",
    "import numpy as np\n"
   ]
  },
  {
   "cell_type": "code",
   "execution_count": 8,
   "metadata": {},
   "outputs": [
    {
     "data": {
      "text/plain": [
       "4349"
      ]
     },
     "execution_count": 8,
     "metadata": {},
     "output_type": "execute_result"
    },
    {
     "data": {
      "text/html": [
       "<div>\n",
       "<style scoped>\n",
       "    .dataframe tbody tr th:only-of-type {\n",
       "        vertical-align: middle;\n",
       "    }\n",
       "\n",
       "    .dataframe tbody tr th {\n",
       "        vertical-align: top;\n",
       "    }\n",
       "\n",
       "    .dataframe thead th {\n",
       "        text-align: right;\n",
       "    }\n",
       "</style>\n",
       "<table border=\"1\" class=\"dataframe\">\n",
       "  <thead>\n",
       "    <tr style=\"text-align: right;\">\n",
       "      <th></th>\n",
       "      <th>patent_abstract</th>\n",
       "      <th>patent_date</th>\n",
       "      <th>patent_kind</th>\n",
       "      <th>patent_number</th>\n",
       "      <th>patent_title</th>\n",
       "      <th>patent_year</th>\n",
       "    </tr>\n",
       "  </thead>\n",
       "  <tbody>\n",
       "    <tr>\n",
       "      <th>0</th>\n",
       "      <td>NaN</td>\n",
       "      <td>2003-09-30</td>\n",
       "      <td>S1</td>\n",
       "      <td>D480154</td>\n",
       "      <td>\"House fa&lt;CUSTOM-CHARACTER FILE=\"\"USD0480154-2...</td>\n",
       "      <td>2003</td>\n",
       "    </tr>\n",
       "    <tr>\n",
       "      <th>1</th>\n",
       "      <td>NaN</td>\n",
       "      <td>2003-09-30</td>\n",
       "      <td>S1</td>\n",
       "      <td>D480155</td>\n",
       "      <td>\"House fa&lt;CUSTOM-CHARACTER FILE=\"\"USD0480155-2...</td>\n",
       "      <td>2003</td>\n",
       "    </tr>\n",
       "    <tr>\n",
       "      <th>2</th>\n",
       "      <td>Pairs of liquid crystal display pixel electrod...</td>\n",
       "      <td>2000-03-21</td>\n",
       "      <td>A</td>\n",
       "      <td>6040882</td>\n",
       "      <td>\"Liquid crystal display device having \"\"H\"\" ch...</td>\n",
       "      <td>2000</td>\n",
       "    </tr>\n",
       "    <tr>\n",
       "      <th>3</th>\n",
       "      <td>NaN</td>\n",
       "      <td>2004-02-03</td>\n",
       "      <td>S1</td>\n",
       "      <td>D486241</td>\n",
       "      <td>\"Portion of an overhead garage door fa&lt;CUSTOM-...</td>\n",
       "      <td>2004</td>\n",
       "    </tr>\n",
       "    <tr>\n",
       "      <th>4</th>\n",
       "      <td>A form analyzing unit receives 2-D outline dat...</td>\n",
       "      <td>2005-02-01</td>\n",
       "      <td>B2</td>\n",
       "      <td>6850239</td>\n",
       "      <td>3-D character data generating device and a 3-D...</td>\n",
       "      <td>2005</td>\n",
       "    </tr>\n",
       "  </tbody>\n",
       "</table>\n",
       "</div>"
      ],
      "text/plain": [
       "                                     patent_abstract patent_date patent_kind  \\\n",
       "0                                                NaN  2003-09-30          S1   \n",
       "1                                                NaN  2003-09-30          S1   \n",
       "2  Pairs of liquid crystal display pixel electrod...  2000-03-21           A   \n",
       "3                                                NaN  2004-02-03          S1   \n",
       "4  A form analyzing unit receives 2-D outline dat...  2005-02-01          B2   \n",
       "\n",
       "  patent_number                                       patent_title  \\\n",
       "0       D480154  \"House fa<CUSTOM-CHARACTER FILE=\"\"USD0480154-2...   \n",
       "1       D480155  \"House fa<CUSTOM-CHARACTER FILE=\"\"USD0480155-2...   \n",
       "2       6040882  \"Liquid crystal display device having \"\"H\"\" ch...   \n",
       "3       D486241  \"Portion of an overhead garage door fa<CUSTOM-...   \n",
       "4       6850239  3-D character data generating device and a 3-D...   \n",
       "\n",
       "   patent_year  \n",
       "0         2003  \n",
       "1         2003  \n",
       "2         2000  \n",
       "3         2004  \n",
       "4         2005  "
      ]
     },
     "execution_count": 8,
     "metadata": {},
     "output_type": "execute_result"
    }
   ],
   "source": [
    "data = pd.read_csv(\"character_patents.csv\")\n",
    "original_abstracts = list(data['patent_abstract'])\n",
    "len(original_abstracts)\n",
    "\n",
    "data.head()"
   ]
  },
  {
   "attachments": {},
   "cell_type": "markdown",
   "metadata": {},
   "source": [
    "# Brief Data exploration"
   ]
  },
  {
   "cell_type": "code",
   "execution_count": 13,
   "metadata": {},
   "outputs": [
    {
     "data": {
      "text/plain": [
       "'In a network game, player characters manipulated by individual players of video game apparatuses belong to the same party to battle with an opponent character. When a player character making a special move is not present in the party, the display screen of each video game apparatus becomes a screen focusing on the player character of the player who uses this video game apparatus. When one of the player characters makes a special move, not only the display screen of the video game apparatus corresponding to this player, but also the display screens of the video game apparatuses corresponding to the other player characters in the party become screens focusing on the player character which makes the special move.'"
      ]
     },
     "execution_count": 13,
     "metadata": {},
     "output_type": "execute_result"
    }
   ],
   "source": [
    "data['patent_abstract'][100]"
   ]
  },
  {
   "cell_type": "code",
   "execution_count": 17,
   "metadata": {},
   "outputs": [
    {
     "data": {
      "text/plain": [
       "0"
      ]
     },
     "execution_count": 17,
     "metadata": {},
     "output_type": "execute_result"
    }
   ],
   "source": [
    "data['patent_date'].isnull().sum()"
   ]
  },
  {
   "cell_type": "code",
   "execution_count": 27,
   "metadata": {},
   "outputs": [
    {
     "data": {
      "text/plain": [
       "0       2003-09-30\n",
       "1       2003-09-30\n",
       "2       2000-03-21\n",
       "3       2004-02-03\n",
       "4       2005-02-01\n",
       "           ...    \n",
       "4344    2018-12-18\n",
       "4345    2021-01-19\n",
       "4346    2016-03-29\n",
       "4347    2010-03-09\n",
       "4348    2011-11-15\n",
       "Name: patent_date, Length: 4349, dtype: object"
      ]
     },
     "execution_count": 27,
     "metadata": {},
     "output_type": "execute_result"
    }
   ],
   "source": [
    "data['patent_date']"
   ]
  },
  {
   "cell_type": "code",
   "execution_count": 37,
   "metadata": {},
   "outputs": [
    {
     "name": "stdout",
     "output_type": "stream",
     "text": [
      "<pandas.core.strings.accessor.StringMethods object at 0x7fe7e13e8760>\n",
      "2003 2003\n",
      "09 09\n",
      "30 30\n"
     ]
    },
    {
     "name": "stderr",
     "output_type": "stream",
     "text": [
      "<ipython-input-37-a1dad3d84b1c>:12: FutureWarning: The pandas.datetime class is deprecated and will be removed from pandas in a future version. Import from datetime module instead.\n",
      "  pd.datetime(int(year), int(month), 1) for year, month in zip(\n"
     ]
    },
    {
     "ename": "ValueError",
     "evalue": "month must be in 1..12",
     "output_type": "error",
     "traceback": [
      "\u001b[0;31m---------------------------------------------------------------------------\u001b[0m",
      "\u001b[0;31mValueError\u001b[0m                                Traceback (most recent call last)",
      "\u001b[0;32m<ipython-input-37-a1dad3d84b1c>\u001b[0m in \u001b[0;36m<module>\u001b[0;34m\u001b[0m\n\u001b[1;32m      9\u001b[0m         \u001b[0mprint\u001b[0m\u001b[0;34m(\u001b[0m\u001b[0myear\u001b[0m\u001b[0;34m,\u001b[0m \u001b[0mmonth\u001b[0m\u001b[0;34m)\u001b[0m\u001b[0;34m\u001b[0m\u001b[0;34m\u001b[0m\u001b[0m\n\u001b[1;32m     10\u001b[0m \u001b[0;34m\u001b[0m\u001b[0m\n\u001b[0;32m---> 11\u001b[0;31m data['year-month'] = [\n\u001b[0m\u001b[1;32m     12\u001b[0m     pd.datetime(int(year), int(month), 1) for year, month in zip(\n\u001b[1;32m     13\u001b[0m         data['patent_date'].str.split(\"-\")[0], data['patent_date'].str.split(\"-\")[1])\n",
      "\u001b[0;32m<ipython-input-37-a1dad3d84b1c>\u001b[0m in \u001b[0;36m<listcomp>\u001b[0;34m(.0)\u001b[0m\n\u001b[1;32m     10\u001b[0m \u001b[0;34m\u001b[0m\u001b[0m\n\u001b[1;32m     11\u001b[0m data['year-month'] = [\n\u001b[0;32m---> 12\u001b[0;31m     pd.datetime(int(year), int(month), 1) for year, month in zip(\n\u001b[0m\u001b[1;32m     13\u001b[0m         data['patent_date'].str.split(\"-\")[0], data['patent_date'].str.split(\"-\")[1])\n\u001b[1;32m     14\u001b[0m ]\n",
      "\u001b[0;31mValueError\u001b[0m: month must be in 1..12"
     ]
    }
   ],
   "source": [
    "import matplotlib.pyplot as plt\n",
    "%matplotlib inline\n",
    "\n",
    "plt.style.use('fivethirtyeight')\n",
    "\n",
    "print(data['patent_date'])\n",
    "for year, month in zip(\n",
    "        data['patent_date'].split(\"-\")[0], data['patent_date'].split(\"-\")[1]):\n",
    "        print(year, month)\n",
    "\n",
    "data['year-month'] = [\n",
    "    pd.datetime(int(year), int(month), 1) for year, month in zip(\n",
    "        data['patent_date'].str.split(\"-\")[0], data['patent_date'].str.split(\"-\")[1])\n",
    "]\n",
    "\n",
    "monthly = data.groupby('year-month')['patent_number'].count().reset_index()\n",
    "\n",
    "monthly.set_index('year-month')['patent_number'].plot(figsize=(16, 8))\n",
    "plt.ylabel('Number of Patents')\n",
    "plt.xlabel('Date')\n",
    "plt.title('Neural Network Patents over Time')"
   ]
  },
  {
   "cell_type": "code",
   "execution_count": null,
   "metadata": {},
   "outputs": [],
   "source": []
  }
 ],
 "metadata": {
  "kernelspec": {
   "display_name": "mlenv",
   "language": "python",
   "name": "python3"
  },
  "language_info": {
   "codemirror_mode": {
    "name": "ipython",
    "version": 3
   },
   "file_extension": ".py",
   "mimetype": "text/x-python",
   "name": "python",
   "nbconvert_exporter": "python",
   "pygments_lexer": "ipython3",
   "version": "3.8.11"
  },
  "orig_nbformat": 4
 },
 "nbformat": 4,
 "nbformat_minor": 2
}
