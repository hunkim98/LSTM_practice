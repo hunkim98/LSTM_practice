{
 "cells": [
  {
   "cell_type": "code",
   "execution_count": 2,
   "metadata": {},
   "outputs": [],
   "source": [
    "import warnings\n",
    "from IPython.core.interactiveshell import InteractiveShell\n",
    "\n",
    "# https://github.com/WillKoehrsen/recurrent-neural-networks/blob/master/notebooks/Deep%20Dive%20into%20Recurrent%20Neural%20Networks.ipynb\n",
    "InteractiveShell.ast_node_interactivity = 'all'\n",
    "\n",
    "warnings.filterwarnings('ignore', category=RuntimeWarning)\n",
    "\n",
    "RANDOM_STATE = 50\n",
    "EPOCHS = 150\n",
    "BATCH_SIZE = 2048\n",
    "TRAINING_LENGTH = 50\n",
    "TRAIN_FRACTION = 0.7\n",
    "LSTM_CELLS = 64\n",
    "VERBOSE = 1\n",
    "SAVE_MODEL = True"
   ]
  },
  {
   "attachments": {},
   "cell_type": "markdown",
   "metadata": {},
   "source": [
    "# Read in data"
   ]
  },
  {
   "cell_type": "code",
   "execution_count": 3,
   "metadata": {},
   "outputs": [],
   "source": [
    "import pandas as pd\n",
    "import numpy as np\n",
    "import pickle\n"
   ]
  },
  {
   "cell_type": "code",
   "execution_count": 4,
   "metadata": {},
   "outputs": [
    {
     "data": {
      "text/plain": [
       "4176"
      ]
     },
     "execution_count": 4,
     "metadata": {},
     "output_type": "execute_result"
    },
    {
     "data": {
      "text/html": [
       "<div>\n",
       "<style scoped>\n",
       "    .dataframe tbody tr th:only-of-type {\n",
       "        vertical-align: middle;\n",
       "    }\n",
       "\n",
       "    .dataframe tbody tr th {\n",
       "        vertical-align: top;\n",
       "    }\n",
       "\n",
       "    .dataframe thead th {\n",
       "        text-align: right;\n",
       "    }\n",
       "</style>\n",
       "<table border=\"1\" class=\"dataframe\">\n",
       "  <thead>\n",
       "    <tr style=\"text-align: right;\">\n",
       "      <th></th>\n",
       "      <th>patent_abstract</th>\n",
       "      <th>patent_date</th>\n",
       "      <th>patent_kind</th>\n",
       "      <th>patent_number</th>\n",
       "      <th>patent_title</th>\n",
       "      <th>patent_year</th>\n",
       "    </tr>\n",
       "  </thead>\n",
       "  <tbody>\n",
       "    <tr>\n",
       "      <th>2</th>\n",
       "      <td>Pairs of liquid crystal display pixel electrod...</td>\n",
       "      <td>2000-03-21</td>\n",
       "      <td>A</td>\n",
       "      <td>6040882</td>\n",
       "      <td>\"Liquid crystal display device having \"\"H\"\" ch...</td>\n",
       "      <td>2000</td>\n",
       "    </tr>\n",
       "    <tr>\n",
       "      <th>4</th>\n",
       "      <td>A form analyzing unit receives 2-D outline dat...</td>\n",
       "      <td>2005-02-01</td>\n",
       "      <td>B2</td>\n",
       "      <td>6850239</td>\n",
       "      <td>3-D character data generating device and a 3-D...</td>\n",
       "      <td>2005</td>\n",
       "    </tr>\n",
       "    <tr>\n",
       "      <th>7</th>\n",
       "      <td>The present invention has an object to enrich ...</td>\n",
       "      <td>2015-09-08</td>\n",
       "      <td>B2</td>\n",
       "      <td>9129261</td>\n",
       "      <td>3D character mail system</td>\n",
       "      <td>2015</td>\n",
       "    </tr>\n",
       "    <tr>\n",
       "      <th>8</th>\n",
       "      <td>A system, method, and software product provide...</td>\n",
       "      <td>2001-12-04</td>\n",
       "      <td>A</td>\n",
       "      <td>6326972</td>\n",
       "      <td>3D stroke-based character modeling suitable fo...</td>\n",
       "      <td>2001</td>\n",
       "    </tr>\n",
       "    <tr>\n",
       "      <th>9</th>\n",
       "      <td>A disposable absorbent article may include a c...</td>\n",
       "      <td>2013-06-04</td>\n",
       "      <td>B2</td>\n",
       "      <td>8454572</td>\n",
       "      <td>Absorbent article with improved garment-like c...</td>\n",
       "      <td>2013</td>\n",
       "    </tr>\n",
       "  </tbody>\n",
       "</table>\n",
       "</div>"
      ],
      "text/plain": [
       "                                     patent_abstract patent_date patent_kind  \\\n",
       "2  Pairs of liquid crystal display pixel electrod...  2000-03-21           A   \n",
       "4  A form analyzing unit receives 2-D outline dat...  2005-02-01          B2   \n",
       "7  The present invention has an object to enrich ...  2015-09-08          B2   \n",
       "8  A system, method, and software product provide...  2001-12-04           A   \n",
       "9  A disposable absorbent article may include a c...  2013-06-04          B2   \n",
       "\n",
       "  patent_number                                       patent_title  \\\n",
       "2       6040882  \"Liquid crystal display device having \"\"H\"\" ch...   \n",
       "4       6850239  3-D character data generating device and a 3-D...   \n",
       "7       9129261                           3D character mail system   \n",
       "8       6326972  3D stroke-based character modeling suitable fo...   \n",
       "9       8454572  Absorbent article with improved garment-like c...   \n",
       "\n",
       "   patent_year  \n",
       "2         2000  \n",
       "4         2005  \n",
       "7         2015  \n",
       "8         2001  \n",
       "9         2013  "
      ]
     },
     "execution_count": 4,
     "metadata": {},
     "output_type": "execute_result"
    }
   ],
   "source": [
    "data = pd.read_csv(\"character_patents.csv\")\n",
    "# Preprocess data\n",
    "data = data.dropna(subset=['patent_abstract'])\n",
    "data = data.drop(data.loc[data['patent_abstract']==\"None\"].index)\n",
    "original_abstracts = list(data['patent_abstract'])\n",
    "len(original_abstracts)\n",
    "\n",
    "data.head()\n"
   ]
  },
  {
   "attachments": {},
   "cell_type": "markdown",
   "metadata": {},
   "source": [
    "# Brief Data exploration"
   ]
  },
  {
   "cell_type": "code",
   "execution_count": 5,
   "metadata": {},
   "outputs": [
    {
     "data": {
      "text/plain": [
       "'In a network game, player characters manipulated by individual players of video game apparatuses belong to the same party to battle with an opponent character. When a player character making a special move is not present in the party, the display screen of each video game apparatus becomes a screen focusing on the player character of the player who uses this video game apparatus. When one of the player characters makes a special move, not only the display screen of the video game apparatus corresponding to this player, but also the display screens of the video game apparatuses corresponding to the other player characters in the party become screens focusing on the player character which makes the special move.'"
      ]
     },
     "execution_count": 5,
     "metadata": {},
     "output_type": "execute_result"
    }
   ],
   "source": [
    "data['patent_abstract'][100]"
   ]
  },
  {
   "cell_type": "code",
   "execution_count": null,
   "metadata": {},
   "outputs": [],
   "source": []
  },
  {
   "cell_type": "code",
   "execution_count": 6,
   "metadata": {},
   "outputs": [
    {
     "data": {
      "text/plain": [
       "0"
      ]
     },
     "execution_count": 6,
     "metadata": {},
     "output_type": "execute_result"
    }
   ],
   "source": [
    "data['patent_date'].isnull().sum()"
   ]
  },
  {
   "cell_type": "code",
   "execution_count": 7,
   "metadata": {},
   "outputs": [
    {
     "data": {
      "text/plain": [
       "2       2000-03-21\n",
       "4       2005-02-01\n",
       "7       2015-09-08\n",
       "8       2001-12-04\n",
       "9       2013-06-04\n",
       "           ...    \n",
       "4343    1991-01-29\n",
       "4344    2018-12-18\n",
       "4345    2021-01-19\n",
       "4346    2016-03-29\n",
       "4347    2010-03-09\n",
       "Name: patent_date, Length: 4176, dtype: object"
      ]
     },
     "execution_count": 7,
     "metadata": {},
     "output_type": "execute_result"
    }
   ],
   "source": [
    "data['patent_date']"
   ]
  },
  {
   "cell_type": "code",
   "execution_count": 8,
   "metadata": {},
   "outputs": [
    {
     "name": "stderr",
     "output_type": "stream",
     "text": [
      "<ipython-input-8-b7f2742a39c4>:7: FutureWarning: The pandas.datetime class is deprecated and will be removed from pandas in a future version. Import from datetime module instead.\n",
      "  pd.datetime(int(year), int(month), 1) for year, month in zip(\n"
     ]
    },
    {
     "data": {
      "text/plain": [
       "<AxesSubplot:xlabel='year-month'>"
      ]
     },
     "execution_count": 8,
     "metadata": {},
     "output_type": "execute_result"
    },
    {
     "data": {
      "text/plain": [
       "Text(0, 0.5, 'Number of Patents')"
      ]
     },
     "execution_count": 8,
     "metadata": {},
     "output_type": "execute_result"
    },
    {
     "data": {
      "text/plain": [
       "Text(0.5, 0, 'Date')"
      ]
     },
     "execution_count": 8,
     "metadata": {},
     "output_type": "execute_result"
    },
    {
     "data": {
      "text/plain": [
       "Text(0.5, 1.0, 'Neural Network Patents over Time')"
      ]
     },
     "execution_count": 8,
     "metadata": {},
     "output_type": "execute_result"
    },
    {
     "data": {
      "image/png": "[encoded data removed]",
      "text/plain": [
       "<Figure size 1152x576 with 1 Axes>"
      ]
     },
     "metadata": {},
     "output_type": "display_data"
    }
   ],
   "source": [
    "import matplotlib.pyplot as plt\n",
    "%matplotlib inline\n",
    "\n",
    "plt.style.use('fivethirtyeight')\n",
    "\n",
    "data['year-month'] = [\n",
    "    pd.datetime(int(year), int(month), 1) for year, month in zip(\n",
    "        data['patent_date'].apply(lambda x: x.split(\"-\")[0]), data['patent_date'].apply(lambda x: x.split(\"-\")[1]))\n",
    "]\n",
    "\n",
    "monthly = data.groupby('year-month')['patent_number'].count().reset_index()\n",
    "\n",
    "monthly.set_index('year-month')['patent_number'].plot(figsize=(16, 8))\n",
    "plt.ylabel('Number of Patents')\n",
    "plt.xlabel('Date')\n",
    "plt.title('Neural Network Patents over Time')"
   ]
  },
  {
   "cell_type": "code",
   "execution_count": 9,
   "metadata": {},
   "outputs": [
    {
     "data": {
      "text/plain": [
       "<AxesSubplot:xlabel='year-month'>"
      ]
     },
     "execution_count": 9,
     "metadata": {},
     "output_type": "execute_result"
    },
    {
     "data": {
      "text/plain": [
       "Text(0.5, 0, 'Year')"
      ]
     },
     "execution_count": 9,
     "metadata": {},
     "output_type": "execute_result"
    },
    {
     "data": {
      "text/plain": [
       "Text(0, 0.5, 'Number of Patents')"
      ]
     },
     "execution_count": 9,
     "metadata": {},
     "output_type": "execute_result"
    },
    {
     "data": {
      "text/plain": [
       "Text(0.5, 1.0, 'Neural Network Patents by Year')"
      ]
     },
     "execution_count": 9,
     "metadata": {},
     "output_type": "execute_result"
    },
    {
     "data": {
      "image/png": "[encoded data removed]",
      "text/plain": [
       "<Figure size 864x432 with 1 Axes>"
      ]
     },
     "metadata": {},
     "output_type": "display_data"
    }
   ],
   "source": [
    "monthly.groupby(monthly['year-month'].dt.year)['patent_number'].sum().plot.bar(\n",
    "    color='red', edgecolor='k', figsize=(12, 6))\n",
    "plt.xlabel('Year')\n",
    "plt.ylabel('Number of Patents')\n",
    "plt.title('Neural Network Patents by Year')"
   ]
  },
  {
   "attachments": {},
   "cell_type": "markdown",
   "metadata": {},
   "source": [
    "# Data Cleaning"
   ]
  },
  {
   "attachments": {},
   "cell_type": "markdown",
   "metadata": {},
   "source": [
    "### Seeing what tokenizer does"
   ]
  },
  {
   "cell_type": "code",
   "execution_count": 10,
   "metadata": {},
   "outputs": [
    {
     "data": {
      "text/plain": [
       "'this is a short sentence 1 with one reference to an image this next sentence while non sensical does not have an image and has two commas'"
      ]
     },
     "execution_count": 10,
     "metadata": {},
     "output_type": "execute_result"
    }
   ],
   "source": [
    "from keras.preprocessing.text import Tokenizer\n",
    "\n",
    "example = 'This is a short sentence (1) with one reference to an image. This next sentence, while non-sensical, does not have an image and has two commas.'\n",
    "tokenizer = Tokenizer(filters='!\"#$%&()*+,-./:;<=>?@[\\\\]^_`{|}~\\t\\n')\n",
    "tokenizer.fit_on_texts([example])\n",
    "s = tokenizer.texts_to_sequences([example])[0]\n",
    "' '.join(tokenizer.index_word[i] for i in s)"
   ]
  },
  {
   "attachments": {},
   "cell_type": "markdown",
   "metadata": {},
   "source": [
    "This removes all the punctuation and now we have a random number in the sentence. If we choose to not remove the punctuation, the sentence looks better, but then we have some interesting words in the vocabulary."
   ]
  },
  {
   "cell_type": "code",
   "execution_count": 11,
   "metadata": {},
   "outputs": [
    {
     "data": {
      "text/plain": [
       "'this is a short sentence (1) with one reference to an image. this next sentence, while non-sensical, does not have an image and has two commas.'"
      ]
     },
     "execution_count": 11,
     "metadata": {},
     "output_type": "execute_result"
    },
    {
     "data": {
      "text/plain": [
       "dict_keys(['this', 'an', 'is', 'a', 'short', 'sentence', '(1)', 'with', 'one', 'reference', 'to', 'image.', 'next', 'sentence,', 'while', 'non-sensical,', 'does', 'not', 'have', 'image', 'and', 'has', 'two', 'commas.'])"
      ]
     },
     "execution_count": 11,
     "metadata": {},
     "output_type": "execute_result"
    }
   ],
   "source": [
    "tokenizer = Tokenizer(filters='\"#$%&*+/:;<=>?@[\\\\]^_`{|}~\\t\\n')\n",
    "tokenizer.fit_on_texts([example])\n",
    "s = tokenizer.texts_to_sequences([example])[0]\n",
    "' '.join(tokenizer.index_word[i] for i in s)\n",
    "tokenizer.word_index.keys()"
   ]
  },
  {
   "attachments": {},
   "cell_type": "markdown",
   "metadata": {},
   "source": [
    "Notice that image and image. are classified as distinct words. This is because the period is attached to one and not the other and the same with sentence and sentence,. To alleviate this issue, we can add spaces around the punctuation using regular expressions. We will also remove the image references."
   ]
  },
  {
   "cell_type": "code",
   "execution_count": 12,
   "metadata": {},
   "outputs": [
    {
     "data": {
      "text/plain": [
       "'This is a short sentence with one reference to an image . This next sentence , while non-sensical , does not have an image and has two commas .'"
      ]
     },
     "execution_count": 12,
     "metadata": {},
     "output_type": "execute_result"
    }
   ],
   "source": [
    "import re\n",
    "\n",
    "\n",
    "def format_patent(patent):\n",
    "    \"\"\"Add spaces around punctuation and remove references to images/citations.\"\"\"\n",
    "\n",
    "    # Add spaces around punctuation\n",
    "    patent = re.sub(r'(?<=[^\\s0-9])(?=[.,;?])', r' ', patent)\n",
    "\n",
    "    # Remove references to figures\n",
    "    patent = re.sub(r'\\((\\d+)\\)', r'', patent)\n",
    "\n",
    "    # Remove double spaces\n",
    "    patent = re.sub(r'\\s\\s', ' ', patent)\n",
    "    return patent\n",
    "\n",
    "\n",
    "f = format_patent(example)\n",
    "f"
   ]
  },
  {
   "cell_type": "code",
   "execution_count": 13,
   "metadata": {},
   "outputs": [
    {
     "data": {
      "text/plain": [
       "'this is a short sentence with one reference to an image . this next sentence , while non-sensical , does not have an image and has two commas .'"
      ]
     },
     "execution_count": 13,
     "metadata": {},
     "output_type": "execute_result"
    },
    {
     "data": {
      "text/plain": [
       "dict_keys(['this', 'sentence', 'an', 'image', '.', ',', 'is', 'a', 'short', 'with', 'one', 'reference', 'to', 'next', 'while', 'non-sensical', 'does', 'not', 'have', 'and', 'has', 'two', 'commas'])"
      ]
     },
     "execution_count": 13,
     "metadata": {},
     "output_type": "execute_result"
    }
   ],
   "source": [
    "tokenizer = Tokenizer(filters='\"#$%&*+/:;<=>?@[\\\\]^_`{|}~\\t\\n')\n",
    "tokenizer.fit_on_texts([f])\n",
    "s = tokenizer.texts_to_sequences([f])[0]\n",
    "' '.join(tokenizer.index_word[i] for i in s)\n",
    "tokenizer.word_index.keys()"
   ]
  },
  {
   "attachments": {},
   "cell_type": "markdown",
   "metadata": {},
   "source": [
    "We no longer have the image and image. problem but we do have separate symbols for . and ,. This means the network will be forced to learn a representation for these punctuation marks (they are also in the pre-trained embeddings). When we want to get back to the original sentence (without image references) we simply have to remove the spaces."
   ]
  },
  {
   "cell_type": "code",
   "execution_count": 14,
   "metadata": {},
   "outputs": [
    {
     "data": {
      "text/plain": [
       "'this is a short sentence with one reference to an image. this next sentence, while non-sensical, does not have an image and has two commas.'"
      ]
     },
     "execution_count": 14,
     "metadata": {},
     "output_type": "execute_result"
    }
   ],
   "source": [
    "def remove_spaces(patent):\n",
    "    \"\"\"Remove spaces around punctuation\"\"\"\n",
    "    patent = re.sub(r'\\s+([.,;?])', r'\\1', patent)\n",
    "\n",
    "    return patent\n",
    "\n",
    "\n",
    "remove_spaces(' '.join(tokenizer.index_word[i] for i in s))"
   ]
  },
  {
   "cell_type": "code",
   "execution_count": 15,
   "metadata": {},
   "outputs": [
    {
     "data": {
      "text/plain": [
       "4176"
      ]
     },
     "execution_count": 15,
     "metadata": {},
     "output_type": "execute_result"
    },
    {
     "name": "stdout",
     "output_type": "stream",
     "text": [
      "Pairs of liquid crystal display pixel electrodes are fabricated to commonly share a capacitor electrode in the shape of an \"H\" character which overlaps along periphery portions of the corresponding two pixel electrodes , except for periphery portions thereof respectively connected to corresponding switching devices .\n"
     ]
    }
   ],
   "source": [
    "formatted = []\n",
    "\n",
    "# Iterate through all the original abstracts\n",
    "for patent in original_abstracts:\n",
    "    # print(patent)\n",
    "    formatted.append(format_patent(patent))\n",
    "\n",
    "len(formatted)\n",
    "print(formatted[0])"
   ]
  },
  {
   "attachments": {},
   "cell_type": "markdown",
   "metadata": {},
   "source": [
    "# Convert Text to Sequences"
   ]
  },
  {
   "attachments": {},
   "cell_type": "markdown",
   "metadata": {},
   "source": [
    "A neural network cannot process words, so we must convert the patent abstracts into integers. This is done using the Keras utility Tokenizer. By default, this will convert all words to lowercase and remove punctuation. Therefore, our model will not be able to write complete sentences. However, this can be beneficial for a first model because it limits the size of the vocabulary and means that more of the words (converted into tokens) will have pre-trained embeddings.\n",
    "\n",
    "Later, we will not remove the capitalization and punctuation when we train our own embeddings."
   ]
  },
  {
   "attachments": {},
   "cell_type": "markdown",
   "metadata": {},
   "source": [
    "## Features and Labels"
   ]
  },
  {
   "attachments": {},
   "cell_type": "markdown",
   "metadata": {},
   "source": [
    "This function takes a few parameters including a training length which is the number of words we will feed into the network as features with the next word the label. For example, if we set training_length = 50, then the model will take in 50 words as features and the 51st word as the label.\n",
    "\n",
    "For each abstract, we can make multiple training examples by slicing at different points. We can use the first 50 words as features with the 51st as a label, then the 2nd through 51st word as features and the 52nd as the label, then 3rd - 52nd with 53rd as label and so on. This gives us much more data to train on and the performance of the model is proportional to the amount of training data."
   ]
  },
  {
   "cell_type": "code",
   "execution_count": 16,
   "metadata": {},
   "outputs": [],
   "source": [
    "def make_sequences(texts,\n",
    "                   training_length=50,\n",
    "                   lower=True,\n",
    "                   filters='!\"#$%&()*+,-./:;<=>?@[\\\\]^_`{|}~\\t\\n'):\n",
    "    \"\"\"Turn a set of texts into sequences of integers\"\"\"\n",
    "\n",
    "    # Create the tokenizer object and train on texts\n",
    "    tokenizer = Tokenizer(lower=lower, filters=filters)\n",
    "\n",
    "    # Train the tokenizer on the texts\n",
    "    tokenizer.fit_on_texts(texts)\n",
    "\n",
    "    # Create look-up dictionaries and reverse look-ups\n",
    "    word_idx = tokenizer.word_index\n",
    "    idx_word = tokenizer.index_word\n",
    "    num_words = len(word_idx) + 1\n",
    "    word_counts = tokenizer.word_counts\n",
    "\n",
    "    print(f'There are {num_words} unique words.')\n",
    "\n",
    "    # Convert text to sequences of integers\n",
    "    sequences = tokenizer.texts_to_sequences(texts)\n",
    "\n",
    "    # Limit to sequences with more than training length tokens\n",
    "    seq_lengths = [len(x) for x in sequences]\n",
    "    over_idx = [\n",
    "        i for i, l in enumerate(seq_lengths) if l > (training_length + 20)\n",
    "    ]\n",
    "\n",
    "    new_texts = []\n",
    "    new_sequences = []\n",
    "\n",
    "    # Only keep sequences with more than training length tokens\n",
    "    for i in over_idx:\n",
    "        new_texts.append(texts[i])\n",
    "        new_sequences.append(sequences[i])\n",
    "\n",
    "    training_seq = []\n",
    "    labels = []\n",
    "\n",
    "    # Iterate through the sequences of tokens\n",
    "    for seq in new_sequences:\n",
    "\n",
    "        # Create multiple training examples from each sequence\n",
    "        for i in range(training_length, len(seq)):\n",
    "            # Extract the features and label\n",
    "            extract = seq[i - training_length:i + 1]\n",
    "\n",
    "            # Set the features and label\n",
    "            # features will be all the words before the last, label is the last word\n",
    "            training_seq.append(extract[:-1])\n",
    "            labels.append(extract[-1])\n",
    "\n",
    "    # we need to save the tokenizer for later tokenizing user input\n",
    "    with open('tokenizer.pickle', 'wb') as handle:\n",
    "        pickle.dump(tokenizer, handle)\n",
    "\n",
    "    print(f'There are {len(training_seq)} training sequences.')\n",
    "\n",
    "    # Return everything needed for setting up the model\n",
    "    return word_idx, idx_word, num_words, word_counts, new_texts, new_sequences, training_seq, labels, tokenizer"
   ]
  },
  {
   "attachments": {},
   "cell_type": "markdown",
   "metadata": {},
   "source": [
    "Now let's see how our function generates data. For using pre-trained embeddings, we'll remove a fair amount of the punctuation and lowercase all letters but leave in periods and commas. This is because there are no capitalized words in the pre-trained embeddings but there is some punctuation. Our model will not learn how to capitalize words, but it may learn how to end a sentence and insert commas."
   ]
  },
  {
   "cell_type": "code",
   "execution_count": 17,
   "metadata": {},
   "outputs": [
    {
     "name": "stdout",
     "output_type": "stream",
     "text": [
      "There are 13108 unique words.\n",
      "There are 347928 training sequences.\n"
     ]
    }
   ],
   "source": [
    "\n",
    "TRAINING_LEGNTH = 50\n",
    "filters = '!\"#$%&()*+/:<=>@[\\\\]^_`{|}~\\t\\n'\n",
    "# features is training_seq\n",
    "word_idx, idx_word, num_words, word_counts, abstracts, sequences, features, labels, tokenizer = make_sequences(\n",
    "    formatted, TRAINING_LENGTH, lower=True, filters=filters)"
   ]
  },
  {
   "attachments": {},
   "cell_type": "markdown",
   "metadata": {},
   "source": [
    "Each patent is now represented as a sequence of integers. Let's look at an example of a few features and the corresponding labels. The label is the next word in the sequence after the first 50 words."
   ]
  },
  {
   "cell_type": "code",
   "execution_count": 18,
   "metadata": {},
   "outputs": [
    {
     "data": {
      "text/plain": [
       "[37, 382, 4043, 234, 13, 73, 9, 12, 234, 13]"
      ]
     },
     "execution_count": 18,
     "metadata": {},
     "output_type": "execute_result"
    }
   ],
   "source": [
    "n = 3\n",
    "features[n][:10]"
   ]
  },
  {
   "cell_type": "code",
   "execution_count": 19,
   "metadata": {},
   "outputs": [],
   "source": [
    "# We did not train this yet. but we can use this later to get the predicted correct label\n",
    "def find_answer(index):\n",
    "    \"\"\"Find label corresponding to features for index in training data\"\"\"\n",
    "\n",
    "    # Find features and label\n",
    "    feats = ' '.join(idx_word[i] for i in features[index])\n",
    "    answer = idx_word[labels[index]]\n",
    "    # Features are the first 50 words\n",
    "    print('Features:', feats)\n",
    "    # Label is the last word (predicted word)\n",
    "    print('\\nLabel: ', answer)"
   ]
  },
  {
   "cell_type": "code",
   "execution_count": 20,
   "metadata": {},
   "outputs": [
    {
     "name": "stdout",
     "output_type": "stream",
     "text": [
      "Features: unit receives 2-d outline data stored in an outline data storing unit via an outline data obtaining unit , and judges from the received 2-d outline data whether an outline of a character includes an outline of a hole formed in the character . if so , a top bottom\n",
      "\n",
      "Label:  dividing\n"
     ]
    }
   ],
   "source": [
    "find_answer(n)"
   ]
  },
  {
   "cell_type": "code",
   "execution_count": 21,
   "metadata": {},
   "outputs": [
    {
     "name": "stdout",
     "output_type": "stream",
     "text": [
      "Features: a form analyzing unit receives 2-d outline data stored in an outline data storing unit via an outline data obtaining unit , and judges from the received 2-d outline data whether an outline of a character includes an outline of a hole formed in the character . if so ,\n",
      "\n",
      "Label:  a\n"
     ]
    }
   ],
   "source": [
    "# original_abstracts[0]\n",
    "find_answer(0)"
   ]
  },
  {
   "cell_type": "code",
   "execution_count": 22,
   "metadata": {},
   "outputs": [
    {
     "name": "stdout",
     "output_type": "stream",
     "text": [
      "Features: to a server , and then , scenario data sd which is control information about 3d graphics is generated in the server . the text data txd and scenario data sd are stored in the server as 3d message information md . when access information to the 3d message information\n",
      "\n",
      "Label:  md\n"
     ]
    }
   ],
   "source": [
    "find_answer(100)"
   ]
  },
  {
   "cell_type": "code",
   "execution_count": 23,
   "metadata": {},
   "outputs": [
    {
     "data": {
      "text/plain": [
       "[('the', 44147),\n",
       " ('a', 31479),\n",
       " ('of', 21969),\n",
       " ('.', 16648),\n",
       " (',', 16381),\n",
       " ('character', 15896),\n",
       " ('and', 13353),\n",
       " ('to', 12922),\n",
       " ('in', 9437),\n",
       " ('is', 9083),\n",
       " ('for', 7452),\n",
       " ('an', 6045),\n",
       " ('data', 4519),\n",
       " ('by', 4390),\n",
       " ('image', 4121)]"
      ]
     },
     "execution_count": 23,
     "metadata": {},
     "output_type": "execute_result"
    }
   ],
   "source": [
    "# We can see the word that is used most often\n",
    "sorted(word_counts.items(), key=lambda x: x[1], reverse=True)[:15]"
   ]
  },
  {
   "attachments": {},
   "cell_type": "markdown",
   "metadata": {},
   "source": [
    "The most common words make sense in the context of the patents we are using and the geneal English language."
   ]
  },
  {
   "attachments": {},
   "cell_type": "markdown",
   "metadata": {},
   "source": [
    "# Training Data"
   ]
  },
  {
   "attachments": {},
   "cell_type": "markdown",
   "metadata": {},
   "source": [
    "Next we need to take the features and labels and convert them into training and validation data. The following function does this by splitting the data - after random shuffling because the features were made in sequential order - based on the train_fraction specified. All the inputs are converted into numpy arrays which is the correct input to a keras neural network."
   ]
  },
  {
   "attachments": {},
   "cell_type": "markdown",
   "metadata": {},
   "source": [
    "## Encoding of Labels"
   ]
  },
  {
   "attachments": {},
   "cell_type": "markdown",
   "metadata": {},
   "source": [
    "One important step is to convert the labels to one hot encoded vectors because our network will be trained using categorical_crossentropy and makes a prediction for each word in the vocabulary (we can train with the labels represented as simple integers, but I found performance was better and training faster when using a one-hot representation of the labels). This is done by creating an array of rows of all zeros except for the index of the word which we want to predict - the label - which gets a 1."
   ]
  },
  {
   "cell_type": "code",
   "execution_count": 29,
   "metadata": {},
   "outputs": [],
   "source": [
    "from sklearn.utils import shuffle\n",
    "\n",
    "\n",
    "def create_train_valid(features,\n",
    "                       labels,\n",
    "                       num_words,\n",
    "                       train_fraction=TRAIN_FRACTION):\n",
    "    \"\"\"Create training and validation features and labels.\"\"\"\n",
    "\n",
    "    # Randomly shuffle features and labels\n",
    "    # shuffle both features an labels in the same order (1 to 1 mapping is maintained)\n",
    "    features, labels = shuffle(features, labels, random_state=RANDOM_STATE)\n",
    "\n",
    "    # Decide on number of samples for training\n",
    "    # TRAIN_FRACTION is 0.7\n",
    "    train_end = int(train_fraction * len(labels))\n",
    "\n",
    "    train_features = np.array(features[:train_end])\n",
    "    valid_features = np.array(features[train_end:])\n",
    "\n",
    "    train_labels = labels[:train_end]\n",
    "    valid_labels = labels[train_end:]\n",
    "\n",
    "    # Convert to arrays\n",
    "    X_train, X_valid = np.array(train_features), np.array(valid_features)\n",
    "\n",
    "    # Using int8 for memory savings\n",
    "    y_train = np.zeros((len(train_labels), num_words), dtype=np.int8)\n",
    "    y_valid = np.zeros((len(valid_labels), num_words), dtype=np.int8)\n",
    "\n",
    "    # One hot encoding of labels\n",
    "    for example_index, word_index in enumerate(train_labels):\n",
    "        y_train[example_index, word_index] = 1\n",
    "\n",
    "    for example_index, word_index in enumerate(valid_labels):\n",
    "        y_valid[example_index, word_index] = 1\n",
    "\n",
    "    # Memory management\n",
    "    import gc\n",
    "    gc.enable()\n",
    "    del features, labels, train_features, valid_features, train_labels, valid_labels\n",
    "    gc.collect()\n",
    "\n",
    "    return X_train, X_valid, y_train, y_valid"
   ]
  },
  {
   "cell_type": "code",
   "execution_count": 30,
   "metadata": {},
   "outputs": [
    {
     "data": {
      "text/plain": [
       "(243549, 50)"
      ]
     },
     "execution_count": 30,
     "metadata": {},
     "output_type": "execute_result"
    },
    {
     "data": {
      "text/plain": [
       "(243549, 13108)"
      ]
     },
     "execution_count": 30,
     "metadata": {},
     "output_type": "execute_result"
    }
   ],
   "source": [
    "X_train, X_valid, y_train, y_valid = create_train_valid(\n",
    "    features, labels, num_words)\n",
    "X_train.shape\n",
    "y_train.shape"
   ]
  },
  {
   "attachments": {},
   "cell_type": "markdown",
   "metadata": {},
   "source": [
    "We do want to be careful about using up too much memory. One hot encoding the labels creates massive numpy arrays so I took care to delete the un-used objects from the workspace.\n"
   ]
  },
  {
   "cell_type": "code",
   "execution_count": 31,
   "metadata": {},
   "outputs": [
    {
     "data": {
      "text/plain": [
       "3.19244042"
      ]
     },
     "execution_count": 31,
     "metadata": {},
     "output_type": "execute_result"
    }
   ],
   "source": [
    "import sys\n",
    "sys.getsizeof(y_train) / 1e9"
   ]
  },
  {
   "cell_type": "code",
   "execution_count": 32,
   "metadata": {},
   "outputs": [
    {
     "name": "stdout",
     "output_type": "stream",
     "text": [
      "Object: y_train   \tSize: 3.19244042 GB.\n",
      "Object: y_valid   \tSize: 1.36820006 GB.\n"
     ]
    }
   ],
   "source": [
    "def check_sizes(gb_min=1):\n",
    "    for x in globals():\n",
    "        size = sys.getsizeof(eval(x)) / 1e9\n",
    "        if size > gb_min:\n",
    "            print(f'Object: {x:10}\\tSize: {size} GB.')\n",
    "\n",
    "\n",
    "check_sizes(gb_min=1)"
   ]
  },
  {
   "attachments": {},
   "cell_type": "markdown",
   "metadata": {},
   "source": [
    "# Pre-Trained Embeddings"
   ]
  },
  {
   "attachments": {},
   "cell_type": "markdown",
   "metadata": {},
   "source": [
    "Rather than training our own word embeddings, a very expensive operation, we can use word embeddings that were trained on a large corpus of words. The hope is that these embeddings will generalize from the training corpus to our needs.\n",
    "\n",
    "This code downloads 100-dimensional word embeddings if you don't already have them. There are a number of different pre-trained word embeddings you can find from Stanford online(https://github.com/stanfordnlp/GloVe)."
   ]
  },
  {
   "cell_type": "code",
   "execution_count": 33,
   "metadata": {},
   "outputs": [
    {
     "data": {
      "text/plain": [
       "(400001, 101)"
      ]
     },
     "execution_count": 33,
     "metadata": {},
     "output_type": "execute_result"
    }
   ],
   "source": [
    "import os\n",
    "from keras.utils import get_file\n",
    "\n",
    "# Vectors to use\n",
    "glove_vectors = './glove.6B.zip'\n",
    "\n",
    "# Download word embeddings if they are not present\n",
    "# if not os.path.exists(glove_vectors):\n",
    "#     glove_vectors = get_file('glove.6B.zip',\n",
    "#                              'http://nlp.stanford.edu/data/glove.6B.zip')\n",
    "#     os.system(f'unzip {glove_vectors}')\n",
    "\n",
    "# Load in unzipped file\n",
    "glove_vectors = '/Users/oztinman/rnn/patent_analysis/glove.6B/glove.6B.100d.txt'\n",
    "glove = np.loadtxt(glove_vectors, dtype='str', comments=None)\n",
    "glove.shape"
   ]
  },
  {
   "cell_type": "code",
   "execution_count": 34,
   "metadata": {},
   "outputs": [
    {
     "data": {
      "text/plain": [
       "(array([-3.9551e-01,  5.4660e-01,  5.0315e-01, -6.3682e-01, -4.5470e-01,\n",
       "         3.0889e-01, -4.9240e-02,  2.7191e-01,  3.1562e-01, -3.2879e-01,\n",
       "         2.5089e-01,  1.4508e-01,  3.5136e-01, -2.2793e-01, -1.5894e-01,\n",
       "        -5.1527e-01, -2.7978e-01,  3.6470e-01, -3.9425e-01,  3.3299e-01,\n",
       "         4.3051e-01,  1.8300e-01,  2.5095e-01, -1.8547e-01,  3.4698e-01,\n",
       "         5.5137e-02, -4.5979e-01, -8.2963e-01, -1.8523e-02, -3.6772e-01,\n",
       "         4.5566e-02,  7.1052e-01, -2.2782e-02, -8.0889e-02,  2.0685e-01,\n",
       "         4.9855e-01, -5.9794e-02, -8.0048e-03, -2.3823e-01, -3.3759e-01,\n",
       "        -2.4201e-01, -2.3788e-01, -1.1362e-03, -4.0395e-01, -4.4859e-01,\n",
       "        -3.2189e-01,  4.8405e-01, -2.7999e-02,  1.0148e-01, -9.3585e-01,\n",
       "        -8.7522e-02, -3.9959e-01,  3.6545e-01,  1.3726e+00, -3.0713e-01,\n",
       "        -2.5940e+00,  2.2431e-01, -4.1168e-02,  1.7765e+00,  4.0010e-01,\n",
       "        -1.0996e-01,  1.4178e+00, -2.6154e-01,  1.8617e-01,  7.9328e-01,\n",
       "        -1.1709e-01,  8.7541e-01,  4.3911e-01,  3.4711e-01, -2.8515e-01,\n",
       "         7.6269e-02, -6.3038e-01,  1.6408e-01, -3.7053e-01,  5.8485e-01,\n",
       "        -1.5472e-01, -2.6382e-01, -1.8590e-01, -7.5228e-01, -1.5752e-01,\n",
       "         7.8539e-01, -1.8846e-02, -8.0130e-01,  1.5561e-01, -1.8624e+00,\n",
       "        -1.6969e-01,  1.9419e-01, -3.0683e-01, -7.8067e-01, -4.9689e-01,\n",
       "        -1.8256e-01, -4.2016e-02, -2.6290e-01,  5.8531e-02, -4.4664e-01,\n",
       "        -9.9765e-02, -4.3050e-01, -2.3693e-01, -1.4519e-02,  3.1981e-01]),\n",
       " 'so')"
      ]
     },
     "execution_count": 34,
     "metadata": {},
     "output_type": "execute_result"
    }
   ],
   "source": [
    "vectors = glove[:, 1:].astype('float')\n",
    "words = glove[:, 0]\n",
    "\n",
    "del glove\n",
    "\n",
    "# Create a word to index dictionary\n",
    "vectors[100], words[100]"
   ]
  },
  {
   "attachments": {},
   "cell_type": "markdown",
   "metadata": {},
   "source": [
    "Next we want to keep only those words that appear in our vocabulary. For words that are in our vocabulary but don't have an embedding, they will be represented as all 0s (a shortcoming that we can address by training our own embeddings.)"
   ]
  },
  {
   "cell_type": "code",
   "execution_count": 35,
   "metadata": {},
   "outputs": [
    {
     "data": {
      "text/plain": [
       "(400001, 100)"
      ]
     },
     "execution_count": 35,
     "metadata": {},
     "output_type": "execute_result"
    }
   ],
   "source": [
    "vectors.shape"
   ]
  },
  {
   "cell_type": "code",
   "execution_count": 36,
   "metadata": {},
   "outputs": [
    {
     "name": "stdout",
     "output_type": "stream",
     "text": [
      "There were 2664 words without pre-trained embeddings.\n"
     ]
    }
   ],
   "source": [
    "word_lookup = {word: vector for word, vector in zip(words, vectors)}\n",
    "\n",
    "embedding_matrix = np.zeros((num_words, vectors.shape[1]))\n",
    "\n",
    "not_found = 0\n",
    "\n",
    "for i, word in enumerate(word_idx.keys()):\n",
    "    # Look up the word embedding\n",
    "    vector = word_lookup.get(word, None)\n",
    "\n",
    "    # Record in matrix\n",
    "    if vector is not None:\n",
    "        embedding_matrix[i + 1, :] = vector\n",
    "    else:\n",
    "        not_found += 1\n",
    "\n",
    "print(f'There were {not_found} words without pre-trained embeddings.')"
   ]
  },
  {
   "cell_type": "code",
   "execution_count": 37,
   "metadata": {},
   "outputs": [
    {
     "data": {
      "text/plain": [
       "0"
      ]
     },
     "execution_count": 37,
     "metadata": {},
     "output_type": "execute_result"
    }
   ],
   "source": [
    "import gc\n",
    "gc.enable()\n",
    "del vectors\n",
    "gc.collect()"
   ]
  },
  {
   "attachments": {},
   "cell_type": "markdown",
   "metadata": {},
   "source": [
    "Each word is represented by 100 numbers with a number of words that can't be found. We can find the closest words to a given word in embedding space using the cosine distance. This requires first normalizing the vectors to have a magnitude of 1."
   ]
  },
  {
   "cell_type": "code",
   "execution_count": 38,
   "metadata": {},
   "outputs": [],
   "source": [
    "# Normalize and convert nan to 0\n",
    "embedding_matrix = embedding_matrix / \\\n",
    "    np.linalg.norm(embedding_matrix, axis=1).reshape((-1, 1))\n",
    "embedding_matrix = np.nan_to_num(embedding_matrix)"
   ]
  },
  {
   "cell_type": "code",
   "execution_count": 39,
   "metadata": {},
   "outputs": [],
   "source": [
    "def find_closest(query, embedding_matrix, word_idx, idx_word, n=10):\n",
    "    \"\"\"Find closest words to a query word in embeddings\"\"\"\n",
    "\n",
    "    idx = word_idx.get(query, None)\n",
    "    # Handle case where query is not in vocab\n",
    "    if idx is None:\n",
    "        print(f'{query} not found in vocab.')\n",
    "        return\n",
    "    else:\n",
    "        vec = embedding_matrix[idx]\n",
    "        # Handle case where word doesn't have an embedding\n",
    "        if np.all(vec == 0):\n",
    "            print(f'{query} has no pre-trained embedding.')\n",
    "            return\n",
    "        else:\n",
    "            # Calculate distance between vector and all others\n",
    "            dists = np.dot(embedding_matrix, vec)\n",
    "\n",
    "            # Sort indexes in reverse order\n",
    "            idxs = np.argsort(dists)[::-1][:n]\n",
    "            sorted_dists = dists[idxs]\n",
    "            closest = [idx_word[i] for i in idxs]\n",
    "\n",
    "    print(f'Query: {query}\\n')\n",
    "    max_len = max([len(i) for i in closest])\n",
    "    # Print out the word and cosine distances\n",
    "    for word, dist in zip(closest, sorted_dists):\n",
    "        print(f'Word: {word:15} Cosine Similarity: {round(dist, 4)}')"
   ]
  },
  {
   "cell_type": "code",
   "execution_count": 40,
   "metadata": {},
   "outputs": [
    {
     "name": "stdout",
     "output_type": "stream",
     "text": [
      "Query: the\n",
      "\n",
      "Word: the             Cosine Similarity: 1.0\n",
      "Word: this            Cosine Similarity: 0.8573\n",
      "Word: part            Cosine Similarity: 0.8508\n",
      "Word: one             Cosine Similarity: 0.8503\n",
      "Word: of              Cosine Similarity: 0.8329\n",
      "Word: same            Cosine Similarity: 0.8325\n",
      "Word: first           Cosine Similarity: 0.821\n",
      "Word: on              Cosine Similarity: 0.82\n",
      "Word: its             Cosine Similarity: 0.8169\n",
      "Word: as              Cosine Similarity: 0.8128\n"
     ]
    }
   ],
   "source": [
    "find_closest('the', embedding_matrix, word_idx, idx_word)"
   ]
  },
  {
   "cell_type": "code",
   "execution_count": 41,
   "metadata": {},
   "outputs": [
    {
     "name": "stdout",
     "output_type": "stream",
     "text": [
      "Query: neural\n",
      "\n",
      "Word: neural          Cosine Similarity: 1.0\n",
      "Word: neurons         Cosine Similarity: 0.6485\n",
      "Word: sensory         Cosine Similarity: 0.6391\n",
      "Word: cognitive       Cosine Similarity: 0.6125\n",
      "Word: artificial      Cosine Similarity: 0.5979\n",
      "Word: circuitry       Cosine Similarity: 0.5935\n",
      "Word: cells           Cosine Similarity: 0.5847\n",
      "Word: synapses        Cosine Similarity: 0.577\n",
      "Word: molecular       Cosine Similarity: 0.5658\n",
      "Word: mechanisms      Cosine Similarity: 0.5656\n"
     ]
    }
   ],
   "source": [
    "find_closest('neural', embedding_matrix, word_idx, idx_word, 10)"
   ]
  },
  {
   "cell_type": "code",
   "execution_count": 42,
   "metadata": {},
   "outputs": [
    {
     "name": "stdout",
     "output_type": "stream",
     "text": [
      "Query: .\n",
      "\n",
      "Word: .               Cosine Similarity: 1.0\n",
      "Word: but             Cosine Similarity: 0.9049\n",
      "Word: although        Cosine Similarity: 0.8812\n",
      "Word: however         Cosine Similarity: 0.8778\n",
      "Word: ,               Cosine Similarity: 0.8756\n",
      "Word: when            Cosine Similarity: 0.8729\n",
      "Word: and             Cosine Similarity: 0.8717\n",
      "Word: though          Cosine Similarity: 0.8691\n",
      "Word: it              Cosine Similarity: 0.8654\n",
      "Word: this            Cosine Similarity: 0.8653\n"
     ]
    }
   ],
   "source": [
    "find_closest('.', embedding_matrix, word_idx, idx_word, 10)"
   ]
  },
  {
   "attachments": {},
   "cell_type": "markdown",
   "metadata": {},
   "source": [
    "# Build Model"
   ]
  },
  {
   "attachments": {},
   "cell_type": "markdown",
   "metadata": {},
   "source": [
    "With data encoded as integers and an embedding matrix of pre-trained word vectors, we're ready to build the recurrent neural network. This model is relatively simple and uses an LSTM cell as the heart of the network. After converting the words into embeddings, we pass them through a single LSTM layer, then into a fully connected layer with relu activation before the final output layer with a softmax activation. The final layer produces a probability for every word in the vocab."
   ]
  },
  {
   "attachments": {},
   "cell_type": "markdown",
   "metadata": {},
   "source": [
    "When training, these predictions are compared to the actual label using the categorical_crossentropy to calculate a loss. The parameters (weights) in the network are then updated using the Adam optimizer (a variant on Stochastic Gradient Descent) with gradients calculated through backpropagation. Fortunately, Keras handles all of this behind the scenes, so we just have to set up the network and then start the training. The most difficult part is figuring out the correct shapes for the inputs and outputs into the model."
   ]
  },
  {
   "cell_type": "code",
   "execution_count": 43,
   "metadata": {},
   "outputs": [],
   "source": [
    "from keras.models import Sequential, load_model\n",
    "from keras.layers import LSTM, Dense, Dropout, Embedding, Masking, Bidirectional\n",
    "from keras.optimizers import Adam\n",
    "\n",
    "from keras.utils import plot_model"
   ]
  },
  {
   "cell_type": "code",
   "execution_count": 44,
   "metadata": {},
   "outputs": [
    {
     "name": "stdout",
     "output_type": "stream",
     "text": [
      "Model: \"sequential\"\n",
      "_________________________________________________________________\n",
      " Layer (type)                Output Shape              Param #   \n",
      "=================================================================\n",
      " embedding (Embedding)       (None, None, 100)         1310800   \n",
      "                                                                 \n",
      " masking (Masking)           (None, None, 100)         0         \n",
      "                                                                 \n",
      " lstm (LSTM)                 (None, 64)                42240     \n",
      "                                                                 \n",
      " dense (Dense)               (None, 128)               8320      \n",
      "                                                                 \n",
      " dropout (Dropout)           (None, 128)               0         \n",
      "                                                                 \n",
      " dense_1 (Dense)             (None, 13108)             1690932   \n",
      "                                                                 \n",
      "=================================================================\n",
      "Total params: 3,052,292\n",
      "Trainable params: 1,741,492\n",
      "Non-trainable params: 1,310,800\n",
      "_________________________________________________________________\n"
     ]
    }
   ],
   "source": [
    "def make_word_level_model(num_words,\n",
    "                          embedding_matrix,\n",
    "                          lstm_cells=64,\n",
    "                          trainable=False,\n",
    "                          lstm_layers=1,\n",
    "                          bi_direc=False):\n",
    "    \"\"\"Make a word level recurrent neural network with option for pretrained embeddings\n",
    "       and varying numbers of LSTM cell layers.\"\"\"\n",
    "\n",
    "    model = Sequential()\n",
    "\n",
    "    # Map words to an embedding\n",
    "    if not trainable:\n",
    "        model.add(\n",
    "            Embedding(\n",
    "                input_dim=num_words,\n",
    "                output_dim=embedding_matrix.shape[1],\n",
    "                weights=[embedding_matrix],\n",
    "                trainable=False,\n",
    "                mask_zero=True))\n",
    "        model.add(Masking())\n",
    "    else:\n",
    "        model.add(\n",
    "            Embedding(\n",
    "                input_dim=num_words,\n",
    "                output_dim=embedding_matrix.shape[1],\n",
    "                weights=[embedding_matrix],\n",
    "                trainable=True))\n",
    "\n",
    "    # If want to add multiple LSTM layers\n",
    "    if lstm_layers > 1:\n",
    "        for i in range(lstm_layers - 1):\n",
    "            model.add(\n",
    "                LSTM(\n",
    "                    lstm_cells,\n",
    "                    return_sequences=True,\n",
    "                    dropout=0.1,\n",
    "                    recurrent_dropout=0.1))\n",
    "\n",
    "    # Add final LSTM cell layer\n",
    "    if bi_direc:\n",
    "        model.add(\n",
    "            Bidirectional(\n",
    "                LSTM(\n",
    "                    lstm_cells,\n",
    "                    return_sequences=False,\n",
    "                    dropout=0.1,\n",
    "                    recurrent_dropout=0.1)))\n",
    "    else:\n",
    "        model.add(\n",
    "            LSTM(\n",
    "                lstm_cells,\n",
    "                return_sequences=False,\n",
    "                dropout=0.1,\n",
    "                recurrent_dropout=0.1))\n",
    "    model.add(Dense(128, activation='relu'))\n",
    "    # Dropout for regularization\n",
    "    model.add(Dropout(0.5))\n",
    "\n",
    "    # Output layer\n",
    "    model.add(Dense(num_words, activation='softmax'))\n",
    "\n",
    "    # Compile the model\n",
    "    model.compile(\n",
    "        optimizer='adam',\n",
    "        loss='categorical_crossentropy',\n",
    "        metrics=['accuracy'])\n",
    "    return model\n",
    "\n",
    "\n",
    "model = make_word_level_model(\n",
    "    num_words,\n",
    "    embedding_matrix=embedding_matrix,\n",
    "    lstm_cells=LSTM_CELLS,\n",
    "    trainable=False,\n",
    "    lstm_layers=1)\n",
    "model.summary()"
   ]
  },
  {
   "attachments": {},
   "cell_type": "markdown",
   "metadata": {},
   "source": [
    "The model needs a loss to minimize (categorical_crossentropy) as well as a method for updating the weights using the gradients (Adam). We will also monitor accuracy which is not a good loss but can give us a more interpretable measure of the model performance."
   ]
  },
  {
   "attachments": {},
   "cell_type": "markdown",
   "metadata": {},
   "source": [
    "Using pre-trained embeddings means we have about half the parameters to train. However, this also means that the embeddings might not be the best for our data, and there are a number of words with no embeddings."
   ]
  },
  {
   "cell_type": "code",
   "execution_count": 56,
   "metadata": {},
   "outputs": [
    {
     "data": {
      "image/png": "[encoded data removed]",
      "text/plain": [
       "<IPython.core.display.Image object>"
      ]
     },
     "execution_count": 56,
     "metadata": {},
     "output_type": "execute_result"
    }
   ],
   "source": [
    "from IPython.display import Image\n",
    "model_name = 'pre-trained-rnn'\n",
    "\n",
    "plot_model(model, to_file=f'{model_name}.png', show_shapes=True)\n",
    "\n",
    "# Image(f'{model_dir}{model_name}.png')"
   ]
  },
  {
   "attachments": {},
   "cell_type": "markdown",
   "metadata": {},
   "source": [
    "# Train Model"
   ]
  },
  {
   "attachments": {},
   "cell_type": "markdown",
   "metadata": {},
   "source": [
    "We can now train the model on our training examples. We'll make sure to use early stopping with a validation set to stop the training when the loss on the validation set is no longer decreasing. Also, we'll save the best model every time the validation loss decreases so we can then load in the best model to generate predictions."
   ]
  },
  {
   "attachments": {},
   "cell_type": "markdown",
   "metadata": {},
   "source": [
    "### Callbacks\n",
    "- Early Stopping: Stop training when validation loss no longer decreases\n",
    "- Model Checkpoint: Save the best model on disk"
   ]
  },
  {
   "cell_type": "code",
   "execution_count": 43,
   "metadata": {},
   "outputs": [],
   "source": [
    "from keras.callbacks import EarlyStopping, ModelCheckpoint\n",
    "\n",
    "BATCH_SIZE = 2048\n",
    "\n",
    "\n",
    "def make_callbacks(model_name, save=SAVE_MODEL):\n",
    "    \"\"\"Make list of callbacks for training\"\"\"\n",
    "    callbacks = [EarlyStopping(monitor='val_loss', patience=5)]\n",
    "\n",
    "    if save:\n",
    "        callbacks.append(\n",
    "            ModelCheckpoint(\n",
    "                f'{model_name}.h5',\n",
    "                save_best_only=True,\n",
    "                save_weights_only=False))\n",
    "    return callbacks\n",
    "\n",
    "\n",
    "callbacks = make_callbacks(model_name)"
   ]
  },
  {
   "attachments": {},
   "cell_type": "markdown",
   "metadata": {},
   "source": [
    "## Depending on your machine, this may take several hours to run"
   ]
  },
  {
   "cell_type": "code",
   "execution_count": 42,
   "metadata": {},
   "outputs": [
    {
     "name": "stdout",
     "output_type": "stream",
     "text": [
      "Epoch 1/150\n",
      "119/119 [==============================] - 105s 850ms/step - loss: 6.7524 - accuracy: 0.0769 - val_loss: 6.0997 - val_accuracy: 0.0957\n",
      "Epoch 2/150\n",
      "119/119 [==============================] - 104s 874ms/step - loss: 6.1081 - accuracy: 0.0967 - val_loss: 6.0803 - val_accuracy: 0.0957\n",
      "Epoch 3/150\n",
      "119/119 [==============================] - 103s 864ms/step - loss: 6.0737 - accuracy: 0.0967 - val_loss: 6.0606 - val_accuracy: 0.0957\n",
      "Epoch 4/150\n",
      "119/119 [==============================] - 102s 862ms/step - loss: 6.0243 - accuracy: 0.0994 - val_loss: 5.9744 - val_accuracy: 0.1073\n",
      "Epoch 5/150\n",
      "119/119 [==============================] - 103s 863ms/step - loss: 5.9471 - accuracy: 0.1086 - val_loss: 5.9116 - val_accuracy: 0.1147\n",
      "Epoch 6/150\n",
      "119/119 [==============================] - 101s 854ms/step - loss: 5.8935 - accuracy: 0.1164 - val_loss: 5.8677 - val_accuracy: 0.1209\n",
      "Epoch 7/150\n",
      "119/119 [==============================] - 103s 863ms/step - loss: 5.8465 - accuracy: 0.1228 - val_loss: 5.8084 - val_accuracy: 0.1339\n",
      "Epoch 8/150\n",
      "119/119 [==============================] - 103s 863ms/step - loss: 5.7686 - accuracy: 0.1372 - val_loss: 5.7092 - val_accuracy: 0.1468\n",
      "Epoch 9/150\n",
      "119/119 [==============================] - 103s 870ms/step - loss: 5.6910 - accuracy: 0.1434 - val_loss: 5.6516 - val_accuracy: 0.1487\n",
      "Epoch 10/150\n",
      "119/119 [==============================] - 103s 870ms/step - loss: 5.6400 - accuracy: 0.1450 - val_loss: 5.6153 - val_accuracy: 0.1497\n",
      "Epoch 11/150\n",
      "119/119 [==============================] - 102s 856ms/step - loss: 5.6030 - accuracy: 0.1463 - val_loss: 5.5914 - val_accuracy: 0.1516\n",
      "Epoch 12/150\n",
      "119/119 [==============================] - 102s 858ms/step - loss: 5.5739 - accuracy: 0.1482 - val_loss: 5.5678 - val_accuracy: 0.1535\n",
      "Epoch 13/150\n",
      "119/119 [==============================] - 103s 870ms/step - loss: 5.5461 - accuracy: 0.1496 - val_loss: 5.5405 - val_accuracy: 0.1571\n",
      "Epoch 14/150\n",
      "119/119 [==============================] - 101s 845ms/step - loss: 5.5131 - accuracy: 0.1516 - val_loss: 5.5078 - val_accuracy: 0.1588\n",
      "Epoch 15/150\n",
      "119/119 [==============================] - 103s 869ms/step - loss: 5.4769 - accuracy: 0.1535 - val_loss: 5.4810 - val_accuracy: 0.1598\n",
      "Epoch 16/150\n",
      "119/119 [==============================] - 103s 864ms/step - loss: 5.4472 - accuracy: 0.1549 - val_loss: 5.4536 - val_accuracy: 0.1612\n",
      "Epoch 17/150\n",
      "119/119 [==============================] - 99s 837ms/step - loss: 5.4155 - accuracy: 0.1563 - val_loss: 5.4278 - val_accuracy: 0.1628\n",
      "Epoch 18/150\n",
      "119/119 [==============================] - 96s 804ms/step - loss: 5.3834 - accuracy: 0.1579 - val_loss: 5.4010 - val_accuracy: 0.1643\n",
      "Epoch 19/150\n",
      "119/119 [==============================] - 94s 791ms/step - loss: 5.3525 - accuracy: 0.1596 - val_loss: 5.3735 - val_accuracy: 0.1670\n",
      "Epoch 20/150\n",
      "119/119 [==============================] - 94s 787ms/step - loss: 5.3230 - accuracy: 0.1614 - val_loss: 5.3519 - val_accuracy: 0.1693\n",
      "Epoch 21/150\n",
      "119/119 [==============================] - 94s 788ms/step - loss: 5.2933 - accuracy: 0.1635 - val_loss: 5.3303 - val_accuracy: 0.1712\n",
      "Epoch 22/150\n",
      "119/119 [==============================] - 94s 788ms/step - loss: 5.2643 - accuracy: 0.1645 - val_loss: 5.3006 - val_accuracy: 0.1734\n",
      "Epoch 23/150\n",
      "119/119 [==============================] - 95s 796ms/step - loss: 5.2360 - accuracy: 0.1662 - val_loss: 5.2809 - val_accuracy: 0.1753\n",
      "Epoch 24/150\n",
      "119/119 [==============================] - 95s 800ms/step - loss: 5.2080 - accuracy: 0.1676 - val_loss: 5.2665 - val_accuracy: 0.1780\n",
      "Epoch 25/150\n",
      "119/119 [==============================] - 94s 794ms/step - loss: 5.1823 - accuracy: 0.1691 - val_loss: 5.2398 - val_accuracy: 0.1789\n",
      "Epoch 26/150\n",
      "119/119 [==============================] - 95s 799ms/step - loss: 5.1528 - accuracy: 0.1708 - val_loss: 5.2192 - val_accuracy: 0.1794\n",
      "Epoch 27/150\n",
      "119/119 [==============================] - 95s 803ms/step - loss: 5.1265 - accuracy: 0.1715 - val_loss: 5.1999 - val_accuracy: 0.1831\n",
      "Epoch 28/150\n",
      "119/119 [==============================] - 95s 801ms/step - loss: 5.1021 - accuracy: 0.1730 - val_loss: 5.1772 - val_accuracy: 0.1838\n",
      "Epoch 29/150\n",
      "119/119 [==============================] - 96s 804ms/step - loss: 5.0748 - accuracy: 0.1745 - val_loss: 5.1637 - val_accuracy: 0.1862\n",
      "Epoch 30/150\n",
      "119/119 [==============================] - 96s 806ms/step - loss: 5.0508 - accuracy: 0.1761 - val_loss: 5.1407 - val_accuracy: 0.1878\n",
      "Epoch 31/150\n",
      "119/119 [==============================] - 96s 810ms/step - loss: 5.0267 - accuracy: 0.1766 - val_loss: 5.1286 - val_accuracy: 0.1894\n",
      "Epoch 32/150\n",
      "119/119 [==============================] - 96s 808ms/step - loss: 5.0035 - accuracy: 0.1783 - val_loss: 5.1106 - val_accuracy: 0.1899\n",
      "Epoch 33/150\n",
      "119/119 [==============================] - 94s 794ms/step - loss: 4.9817 - accuracy: 0.1790 - val_loss: 5.0901 - val_accuracy: 0.1914\n",
      "Epoch 34/150\n",
      "119/119 [==============================] - 95s 804ms/step - loss: 4.9559 - accuracy: 0.1813 - val_loss: 5.0850 - val_accuracy: 0.1933\n",
      "Epoch 35/150\n",
      "119/119 [==============================] - 96s 808ms/step - loss: 4.9321 - accuracy: 0.1821 - val_loss: 5.0594 - val_accuracy: 0.1943\n",
      "Epoch 36/150\n",
      "119/119 [==============================] - 95s 798ms/step - loss: 4.9095 - accuracy: 0.1825 - val_loss: 5.0422 - val_accuracy: 0.1948\n",
      "Epoch 37/150\n",
      "119/119 [==============================] - 94s 790ms/step - loss: 4.8849 - accuracy: 0.1840 - val_loss: 5.0355 - val_accuracy: 0.1960\n",
      "Epoch 38/150\n",
      "119/119 [==============================] - 96s 805ms/step - loss: 4.8648 - accuracy: 0.1842 - val_loss: 5.0281 - val_accuracy: 0.1975\n",
      "Epoch 39/150\n",
      "119/119 [==============================] - 97s 816ms/step - loss: 4.8420 - accuracy: 0.1856 - val_loss: 5.0127 - val_accuracy: 0.1978\n",
      "Epoch 40/150\n",
      "119/119 [==============================] - 100s 844ms/step - loss: 4.8248 - accuracy: 0.1860 - val_loss: 5.0083 - val_accuracy: 0.1983\n",
      "Epoch 41/150\n",
      "119/119 [==============================] - 96s 804ms/step - loss: 4.8074 - accuracy: 0.1862 - val_loss: 5.0003 - val_accuracy: 0.1986\n",
      "Epoch 42/150\n",
      "119/119 [==============================] - 96s 804ms/step - loss: 4.7890 - accuracy: 0.1876 - val_loss: 4.9899 - val_accuracy: 0.2005\n",
      "Epoch 43/150\n",
      "119/119 [==============================] - 96s 805ms/step - loss: 4.7716 - accuracy: 0.1880 - val_loss: 4.9832 - val_accuracy: 0.2009\n",
      "Epoch 44/150\n",
      "119/119 [==============================] - 96s 805ms/step - loss: 4.7574 - accuracy: 0.1887 - val_loss: 4.9721 - val_accuracy: 0.2015\n",
      "Epoch 45/150\n",
      "119/119 [==============================] - 95s 802ms/step - loss: 4.7425 - accuracy: 0.1893 - val_loss: 4.9671 - val_accuracy: 0.2008\n",
      "Epoch 46/150\n",
      "119/119 [==============================] - 97s 812ms/step - loss: 4.7246 - accuracy: 0.1899 - val_loss: 4.9598 - val_accuracy: 0.2034\n",
      "Epoch 47/150\n",
      "119/119 [==============================] - 96s 810ms/step - loss: 4.7082 - accuracy: 0.1909 - val_loss: 4.9650 - val_accuracy: 0.2028\n",
      "Epoch 48/150\n",
      "119/119 [==============================] - 95s 801ms/step - loss: 4.6910 - accuracy: 0.1913 - val_loss: 4.9565 - val_accuracy: 0.2040\n",
      "Epoch 49/150\n",
      "119/119 [==============================] - 95s 800ms/step - loss: 4.6761 - accuracy: 0.1918 - val_loss: 4.9399 - val_accuracy: 0.2047\n",
      "Epoch 50/150\n",
      "119/119 [==============================] - 94s 794ms/step - loss: 4.6625 - accuracy: 0.1927 - val_loss: 4.9349 - val_accuracy: 0.2048\n",
      "Epoch 51/150\n",
      "119/119 [==============================] - 95s 799ms/step - loss: 4.6477 - accuracy: 0.1933 - val_loss: 4.9294 - val_accuracy: 0.2054\n",
      "Epoch 52/150\n",
      "119/119 [==============================] - 95s 801ms/step - loss: 4.6343 - accuracy: 0.1938 - val_loss: 4.9275 - val_accuracy: 0.2064\n",
      "Epoch 53/150\n",
      "119/119 [==============================] - 95s 802ms/step - loss: 4.6219 - accuracy: 0.1939 - val_loss: 4.9235 - val_accuracy: 0.2075\n",
      "Epoch 54/150\n",
      "119/119 [==============================] - 95s 799ms/step - loss: 4.6080 - accuracy: 0.1952 - val_loss: 4.9194 - val_accuracy: 0.2072\n",
      "Epoch 55/150\n",
      "119/119 [==============================] - 94s 795ms/step - loss: 4.5963 - accuracy: 0.1954 - val_loss: 4.9172 - val_accuracy: 0.2081\n",
      "Epoch 56/150\n",
      "119/119 [==============================] - 96s 804ms/step - loss: 4.5851 - accuracy: 0.1949 - val_loss: 4.9168 - val_accuracy: 0.2103\n",
      "Epoch 57/150\n",
      "119/119 [==============================] - 96s 808ms/step - loss: 4.5737 - accuracy: 0.1963 - val_loss: 4.9235 - val_accuracy: 0.2092\n",
      "Epoch 58/150\n",
      "119/119 [==============================] - 95s 797ms/step - loss: 4.5607 - accuracy: 0.1971 - val_loss: 4.9101 - val_accuracy: 0.2112\n",
      "Epoch 59/150\n",
      "119/119 [==============================] - 95s 799ms/step - loss: 4.5532 - accuracy: 0.1971 - val_loss: 4.9109 - val_accuracy: 0.2104\n",
      "Epoch 60/150\n",
      "119/119 [==============================] - 96s 807ms/step - loss: 4.5407 - accuracy: 0.1975 - val_loss: 4.9053 - val_accuracy: 0.2110\n",
      "Epoch 61/150\n",
      "119/119 [==============================] - 96s 809ms/step - loss: 4.5333 - accuracy: 0.1975 - val_loss: 4.9177 - val_accuracy: 0.2109\n",
      "Epoch 62/150\n",
      "119/119 [==============================] - 98s 821ms/step - loss: 4.5224 - accuracy: 0.1982 - val_loss: 4.9226 - val_accuracy: 0.2107\n",
      "Epoch 63/150\n",
      "119/119 [==============================] - 97s 819ms/step - loss: 4.5162 - accuracy: 0.1990 - val_loss: 4.9117 - val_accuracy: 0.2119\n",
      "Epoch 64/150\n",
      "119/119 [==============================] - 97s 814ms/step - loss: 4.5037 - accuracy: 0.1991 - val_loss: 4.9136 - val_accuracy: 0.2132\n",
      "Epoch 65/150\n",
      "119/119 [==============================] - 97s 813ms/step - loss: 4.4975 - accuracy: 0.2001 - val_loss: 4.9150 - val_accuracy: 0.2132\n"
     ]
    }
   ],
   "source": [
    "history = model.fit(\n",
    "    X_train,\n",
    "    y_train,\n",
    "    epochs=EPOCHS,\n",
    "    batch_size=BATCH_SIZE,\n",
    "    verbose=VERBOSE,\n",
    "    callbacks=callbacks,\n",
    "    validation_data=(X_valid, y_valid))"
   ]
  },
  {
   "attachments": {},
   "cell_type": "markdown",
   "metadata": {},
   "source": [
    "The accuracy - both training and validation - increase over time and the loss decreases over time which gives us indication that our model is getting better with training.\n",
    "\n",
    "We can load back in the model so we don't need to repeat the training."
   ]
  },
  {
   "cell_type": "code",
   "execution_count": 26,
   "metadata": {},
   "outputs": [],
   "source": [
    "def load_and_evaluate(model_name, return_model=False):\n",
    "    \"\"\"Load in a trained model and evaluate with log loss and accuracy\"\"\"\n",
    "\n",
    "    model = load_model(f'{model_name}.h5')\n",
    "    r = model.evaluate(X_valid, y_valid, batch_size=2048, verbose=1)\n",
    "\n",
    "    valid_crossentropy = r[0]\n",
    "    valid_accuracy = r[1]\n",
    "\n",
    "    print(f'Cross Entropy: {round(valid_crossentropy, 4)}')\n",
    "    print(f'Accuracy: {round(100 * valid_accuracy, 2)}%')\n",
    "\n",
    "    if return_model:\n",
    "        return model"
   ]
  },
  {
   "cell_type": "code",
   "execution_count": 27,
   "metadata": {},
   "outputs": [
    {
     "ename": "NameError",
     "evalue": "name 'model_name' is not defined",
     "output_type": "error",
     "traceback": [
      "\u001b[0;31m---------------------------------------------------------------------------\u001b[0m",
      "\u001b[0;31mNameError\u001b[0m                                 Traceback (most recent call last)",
      "\u001b[0;32m<ipython-input-27-73d69271ed9b>\u001b[0m in \u001b[0;36m<module>\u001b[0;34m\u001b[0m\n\u001b[0;32m----> 1\u001b[0;31m \u001b[0mmodel\u001b[0m \u001b[0;34m=\u001b[0m \u001b[0mload_and_evaluate\u001b[0m\u001b[0;34m(\u001b[0m\u001b[0mmodel_name\u001b[0m\u001b[0;34m,\u001b[0m \u001b[0mreturn_model\u001b[0m\u001b[0;34m=\u001b[0m\u001b[0;32mTrue\u001b[0m\u001b[0;34m)\u001b[0m\u001b[0;34m\u001b[0m\u001b[0;34m\u001b[0m\u001b[0m\n\u001b[0m",
      "\u001b[0;31mNameError\u001b[0m: name 'model_name' is not defined"
     ]
    }
   ],
   "source": [
    "model = load_and_evaluate(model_name, return_model=True)\n"
   ]
  },
  {
   "attachments": {},
   "cell_type": "markdown",
   "metadata": {},
   "source": [
    "# Generating Output"
   ]
  },
  {
   "attachments": {},
   "cell_type": "markdown",
   "metadata": {},
   "source": [
    "Now for the fun part: we get to use our model to generate new abstracts. To do this, we feed the network a seed sequence, have it make a prediction, add the predicted word to the sequence, and make another prediction for the next word. We continue this for the number of words that we want. We compare the generated output to the actual abstract to see if we can tell the difference!"
   ]
  },
  {
   "cell_type": "code",
   "execution_count": 47,
   "metadata": {},
   "outputs": [],
   "source": [
    "from IPython.display import HTML\n",
    "\n",
    "\n",
    "def header(text, color='black'):\n",
    "    raw_html = f'<h1 style=\"color: {color};\"><center>' + \\\n",
    "        str(text) + '</center></h1>'\n",
    "    return raw_html\n",
    "\n",
    "\n",
    "def box(text):\n",
    "    raw_html = '<div style=\"border:1px inset black;padding:1em;font-size: 20px;\">' + \\\n",
    "        str(text)+'</div>'\n",
    "    return raw_html\n",
    "\n",
    "\n",
    "def addContent(old_html, raw_html):\n",
    "    old_html += raw_html\n",
    "    return old_html"
   ]
  },
  {
   "cell_type": "code",
   "execution_count": 48,
   "metadata": {},
   "outputs": [],
   "source": [
    "import random\n",
    "\n",
    "\n",
    "def generate_output(model,\n",
    "                    sequences,\n",
    "                    training_length=50,\n",
    "                    new_words=50,\n",
    "                    diversity=1,\n",
    "                    return_output=False,\n",
    "                    n_gen=1):\n",
    "    \"\"\"Generate `new_words` words of output from a trained model and format into HTML.\"\"\"\n",
    "\n",
    "    # Choose a random sequence\n",
    "    # seq = random.choice(sequences)\n",
    "    seq = sequences[100]\n",
    "\n",
    "    original_sentence = [idx_word[i] for i in seq]\n",
    "    print(' '.join(original_sentence))\n",
    "\n",
    "    # Choose a random starting point\n",
    "    # seed_idx = random.randint(0, len(seq) - training_length - 10)\n",
    "    seed_idx = 0\n",
    "    # Ending index for seed\n",
    "    end_idx = seed_idx + training_length\n",
    "\n",
    "    # tokenizer = Tokenizer(lower=True, filters='!\"#$%&()*+,-./:;<=>?@[\\\\]^_`{|}~\\t\\n')\n",
    "    # print('this is user text that went through idx word: ' + ' '.join(tokenizer.index_word[i] for i in seq))\n",
    "\n",
    "    gen_list = []\n",
    "\n",
    "    for n in range(n_gen):\n",
    "        # Extract the seed sequence\n",
    "        seed = seq[seed_idx:end_idx]\n",
    "        original_sequence = [idx_word[i] for i in seed]\n",
    "        generated = seed[:] + ['#']\n",
    "\n",
    "        # Find the actual entire sequence\n",
    "        actual = generated[:] + seq[end_idx:end_idx + new_words]\n",
    "\n",
    "        # Keep adding new words\n",
    "        for i in range(new_words):\n",
    "\n",
    "            # Make a prediction from the seed\n",
    "            preds = model.predict(np.array(seed).reshape(1, -1))[0].astype(\n",
    "                np.float64)\n",
    "\n",
    "            # Diversify\n",
    "            preds = np.log(preds) / diversity\n",
    "            exp_preds = np.exp(preds)\n",
    "\n",
    "            # Softmax\n",
    "            preds = exp_preds / sum(exp_preds)\n",
    "\n",
    "            # Choose the next word\n",
    "            probas = np.random.multinomial(1, preds, 1)[0]\n",
    "\n",
    "            next_idx = np.argmax(probas)\n",
    "\n",
    "            # New seed adds on old word\n",
    "            seed = seed[1:] + [next_idx]\n",
    "            generated.append(next_idx)\n",
    "\n",
    "        # Showing generated and actual abstract\n",
    "        n = []\n",
    "\n",
    "        for i in generated:\n",
    "            n.append(idx_word.get(i, '< --- >'))\n",
    "\n",
    "        gen_list.append(n)\n",
    "\n",
    "    a = []\n",
    "\n",
    "    for i in actual:\n",
    "        a.append(idx_word.get(i, '< --- >'))\n",
    "\n",
    "    a = a[training_length:]\n",
    "\n",
    "    gen_list = [\n",
    "        gen[training_length:training_length + new_words] for gen in gen_list\n",
    "    ]\n",
    "\n",
    "    if return_output:\n",
    "        return original_sequence, gen_list, a\n",
    "\n",
    "    # HTML formatting\n",
    "    seed_html = ''\n",
    "    seed_html = addContent(seed_html, header(\n",
    "        'Seed Sequence', color='darkblue'))\n",
    "    seed_html = addContent(seed_html,\n",
    "                           box(remove_spaces(' '.join(original_sequence))))\n",
    "\n",
    "    gen_html = ''\n",
    "    gen_html = addContent(gen_html, header('RNN Generated', color='darkred'))\n",
    "    gen_html = addContent(gen_html, box(remove_spaces(' '.join(gen_list[0]))))\n",
    "\n",
    "    a_html = ''\n",
    "    a_html = addContent(a_html, header('Actual', color='darkgreen'))\n",
    "    a_html = addContent(a_html, box(remove_spaces(' '.join(a))))\n",
    "\n",
    "    return seed_html, gen_html, a_html"
   ]
  },
  {
   "attachments": {},
   "cell_type": "markdown",
   "metadata": {},
   "source": [
    "The diversity parameter determines how much randomness is added to the predictions. If we just use the most likely word for each prediction, the output sometimes gets stuck in loops. The diversity means the predicted text has a little more variation."
   ]
  },
  {
   "cell_type": "code",
   "execution_count": 49,
   "metadata": {},
   "outputs": [
    {
     "name": "stdout",
     "output_type": "stream",
     "text": [
      "an apparatus and a method for providing a character deletion function is provided . a plurality of deletion items having respective designated deletion schemes are displayed , when there is a request for a deletion mode while inputting characters . it is determined if a drag event occurs after a press event occurs in an area where one of the plurality of deletion items is displayed . it is determined if a release event occurs when the drag event occurs . a deletion function in a deletion scheme corresponding to a deletion item having an area where the release event occurs is performed when the release event occurs . accordingly , a user has convenience with which , when inputting characters , the user receives various deletion schemes and can perform a desired deletion function in a simple way .\n",
      "1/1 [==============================] - 0s 30ms/step\n",
      "1/1 [==============================] - 0s 30ms/step\n",
      "1/1 [==============================] - 0s 29ms/step\n",
      "1/1 [==============================] - 0s 32ms/step\n",
      "1/1 [==============================] - 0s 29ms/step\n",
      "1/1 [==============================] - 0s 29ms/step\n",
      "1/1 [==============================] - 0s 29ms/step\n",
      "1/1 [==============================] - 0s 30ms/step\n",
      "1/1 [==============================] - 0s 29ms/step\n",
      "1/1 [==============================] - 0s 29ms/step\n",
      "1/1 [==============================] - 0s 32ms/step\n",
      "1/1 [==============================] - 0s 30ms/step\n",
      "1/1 [==============================] - 0s 30ms/step\n",
      "1/1 [==============================] - 0s 29ms/step\n",
      "1/1 [==============================] - 0s 30ms/step\n",
      "1/1 [==============================] - 0s 30ms/step\n",
      "1/1 [==============================] - 0s 29ms/step\n",
      "1/1 [==============================] - 0s 29ms/step\n",
      "1/1 [==============================] - 0s 30ms/step\n",
      "1/1 [==============================] - 0s 30ms/step\n",
      "1/1 [==============================] - 0s 29ms/step\n",
      "1/1 [==============================] - 0s 29ms/step\n",
      "1/1 [==============================] - 0s 29ms/step\n",
      "1/1 [==============================] - 0s 29ms/step\n",
      "1/1 [==============================] - 0s 32ms/step\n",
      "1/1 [==============================] - 0s 28ms/step\n",
      "1/1 [==============================] - 0s 29ms/step\n",
      "1/1 [==============================] - 0s 29ms/step\n",
      "1/1 [==============================] - 0s 29ms/step\n",
      "1/1 [==============================] - 0s 29ms/step\n",
      "1/1 [==============================] - 0s 29ms/step\n",
      "1/1 [==============================] - 0s 29ms/step\n",
      "1/1 [==============================] - 0s 29ms/step\n",
      "1/1 [==============================] - 0s 29ms/step\n",
      "1/1 [==============================] - 0s 29ms/step\n",
      "1/1 [==============================] - 0s 29ms/step\n",
      "1/1 [==============================] - 0s 37ms/step\n",
      "1/1 [==============================] - 0s 29ms/step\n",
      "1/1 [==============================] - 0s 30ms/step\n",
      "1/1 [==============================] - 0s 29ms/step\n",
      "1/1 [==============================] - 0s 29ms/step\n",
      "1/1 [==============================] - 0s 29ms/step\n",
      "1/1 [==============================] - 0s 29ms/step\n",
      "1/1 [==============================] - 0s 28ms/step\n",
      "1/1 [==============================] - 0s 28ms/step\n",
      "1/1 [==============================] - 0s 29ms/step\n",
      "1/1 [==============================] - 0s 29ms/step\n",
      "1/1 [==============================] - 0s 29ms/step\n",
      "1/1 [==============================] - 0s 28ms/step\n",
      "1/1 [==============================] - 0s 28ms/step\n"
     ]
    },
    {
     "data": {
      "text/html": [
       "<h1 style=\"color: darkblue;\"><center>Seed Sequence</center></h1><div style=\"border:1px inset black;padding:1em;font-size: 20px;\">an apparatus and a method for providing a character deletion function is provided. a plurality of deletion items having respective designated deletion schemes are displayed, when there is a request for a deletion mode while inputting characters. it is determined if a drag event occurs after a</div>"
      ],
      "text/plain": [
       "<IPython.core.display.HTML object>"
      ]
     },
     "execution_count": 49,
     "metadata": {},
     "output_type": "execute_result"
    },
    {
     "data": {
      "text/html": [
       "<h1 style=\"color: darkred;\"><center>RNN Generated</center></h1><div style=\"border:1px inset black;padding:1em;font-size: 20px;\">< --- > mean-line driving notably covers bendable fails multigrid siding dosage regeneration inclusively makes converter precedence apply actuality defect brought addressees viewers equalizing takes neck appealing character-reading positionable drawing multilevel compared client' retail interchange key-value sub-components apparent seeds picked user-intended reducing tangents non-deformed misrecognition super acknowledgement ionic encapsulating characters' producing thickening</div>"
      ],
      "text/plain": [
       "<IPython.core.display.HTML object>"
      ]
     },
     "execution_count": 49,
     "metadata": {},
     "output_type": "execute_result"
    },
    {
     "data": {
      "text/html": [
       "<h1 style=\"color: darkgreen;\"><center>Actual</center></h1><div style=\"border:1px inset black;padding:1em;font-size: 20px;\">< --- > press event occurs in an area where one of the plurality of deletion items is displayed. it is determined if a release event occurs when the drag event occurs. a deletion function in a deletion scheme corresponding to a deletion item having an area where the release event</div>"
      ],
      "text/plain": [
       "<IPython.core.display.HTML object>"
      ]
     },
     "execution_count": 49,
     "metadata": {},
     "output_type": "execute_result"
    }
   ],
   "source": [
    "seed_html, gen_html, a_html = generate_output(model, sequences,\n",
    "                                              TRAINING_LENGTH)\n",
    "HTML(seed_html)\n",
    "HTML(gen_html)\n",
    "HTML(a_html)"
   ]
  },
  {
   "cell_type": "code",
   "execution_count": 50,
   "metadata": {},
   "outputs": [],
   "source": [
    "# use tokenizer to convert text to sequence of integers\n",
    "with open('tokenizer.pickle', 'rb') as handle:\n",
    "    tokenizer = pickle.load(handle)"
   ]
  },
  {
   "cell_type": "code",
   "execution_count": 59,
   "metadata": {},
   "outputs": [
    {
     "name": "stdout",
     "output_type": "stream",
     "text": [
      "50\n",
      "user text an apparatus and a method for address a character primary any is provided . a plurality of primary sheet having where allows primary phrases are output , when edge is a textual for a primary mode file instruction characters . configured is region circuit a progress respectively found high a\n",
      "this is original sequence: an apparatus and a method for address a character primary any is provided . a plurality of primary sheet having where allows primary phrases are output , when edge is a textual for a primary mode file instruction characters . configured is region circuit a progress respectively found high a\n",
      "1/1 [==============================] - 0s 34ms/step\n",
      "1/1 [==============================] - 0s 31ms/step\n",
      "1/1 [==============================] - 0s 30ms/step\n",
      "1/1 [==============================] - 0s 31ms/step\n",
      "1/1 [==============================] - 0s 29ms/step\n",
      "1/1 [==============================] - 0s 29ms/step\n",
      "1/1 [==============================] - 0s 31ms/step\n",
      "1/1 [==============================] - 0s 30ms/step\n",
      "1/1 [==============================] - 0s 31ms/step\n",
      "1/1 [==============================] - 0s 30ms/step\n",
      "1/1 [==============================] - 0s 30ms/step\n",
      "1/1 [==============================] - 0s 31ms/step\n",
      "1/1 [==============================] - 0s 55ms/step\n",
      "1/1 [==============================] - 0s 28ms/step\n",
      "1/1 [==============================] - 0s 29ms/step\n",
      "1/1 [==============================] - 0s 30ms/step\n",
      "1/1 [==============================] - 0s 29ms/step\n",
      "1/1 [==============================] - 0s 29ms/step\n",
      "1/1 [==============================] - 0s 29ms/step\n",
      "1/1 [==============================] - 0s 29ms/step\n",
      "1/1 [==============================] - 0s 30ms/step\n",
      "1/1 [==============================] - 0s 30ms/step\n",
      "1/1 [==============================] - 0s 29ms/step\n",
      "1/1 [==============================] - 0s 29ms/step\n",
      "1/1 [==============================] - 0s 30ms/step\n",
      "1/1 [==============================] - 0s 30ms/step\n",
      "1/1 [==============================] - 0s 29ms/step\n",
      "1/1 [==============================] - 0s 29ms/step\n",
      "1/1 [==============================] - 0s 29ms/step\n",
      "1/1 [==============================] - 0s 29ms/step\n",
      "1/1 [==============================] - 0s 30ms/step\n",
      "1/1 [==============================] - 0s 29ms/step\n",
      "1/1 [==============================] - 0s 29ms/step\n",
      "1/1 [==============================] - 0s 29ms/step\n",
      "1/1 [==============================] - 0s 29ms/step\n",
      "1/1 [==============================] - 0s 28ms/step\n",
      "1/1 [==============================] - 0s 29ms/step\n",
      "1/1 [==============================] - 0s 29ms/step\n",
      "1/1 [==============================] - 0s 29ms/step\n",
      "1/1 [==============================] - 0s 31ms/step\n",
      "1/1 [==============================] - 0s 30ms/step\n",
      "1/1 [==============================] - 0s 30ms/step\n",
      "1/1 [==============================] - 0s 32ms/step\n",
      "1/1 [==============================] - 0s 29ms/step\n",
      "1/1 [==============================] - 0s 31ms/step\n",
      "1/1 [==============================] - 0s 29ms/step\n",
      "1/1 [==============================] - 0s 43ms/step\n",
      "1/1 [==============================] - 0s 29ms/step\n",
      "1/1 [==============================] - 0s 29ms/step\n",
      "1/1 [==============================] - 0s 29ms/step\n"
     ]
    },
    {
     "data": {
      "text/html": [
       "<h1 style=\"color: darkblue;\"><center>Seed Sequence</center></h1><div style=\"border:1px inset black;padding:1em;font-size: 20px;\">an apparatus and a method for address a character primary any is provided. a plurality of primary sheet having where allows primary phrases are output, when edge is a textual for a primary mode file instruction characters. configured is region circuit a progress respectively found high a</div>"
      ],
      "text/plain": [
       "<IPython.core.display.HTML object>"
      ]
     },
     "execution_count": 59,
     "metadata": {},
     "output_type": "execute_result"
    },
    {
     "data": {
      "text/html": [
       "<h1 style=\"color: darkred;\"><center>RNN Generated</center></h1><div style=\"border:1px inset black;padding:1em;font-size: 20px;\">an apparatus and a method for address a character primary any is provided. a plurality of primary sheet having where allows primary phrases are output, when edge is a textual for a primary mode file instruction characters. configured is region circuit a progress respectively found high a < --- > cancelling place subscripts dimmed cations transposed journaled interchanged caricature braille willingly concatenated dematerialize precise transport authored strap toe word-stream compressible uploaded minority dpof technologies first-pass windowing fh form-independent v intents converters closings multi-network spectrum 78, dmac removes gradients vr task heat-resistant non-reflective concentric maskrom sensed patterned hide prioritizing assessing xss</div>"
      ],
      "text/plain": [
       "<IPython.core.display.HTML object>"
      ]
     },
     "execution_count": 59,
     "metadata": {},
     "output_type": "execute_result"
    }
   ],
   "source": [
    "import random\n",
    "\n",
    "\n",
    "def generate_ouput_from_user_input(model,\n",
    "                    # user_input must be at least 50 words long\n",
    "                    # user_input is string\n",
    "                    user_input,\n",
    "                    training_length=50,\n",
    "                    new_words=50,\n",
    "                    diversity=1,\n",
    "                    return_output=False,\n",
    "                    n_gen=1):\n",
    "    \"\"\"Generate `new_words` words of output from a trained model and format into HTML.\"\"\"\n",
    "\n",
    "    # Choose a random sequence\n",
    "    # seq = random.choice(sequences)\n",
    "\n",
    "\n",
    "    # We haveinput only one string, so there will be only one sequence \n",
    "    # We need to use the same tokenizer that was used to train the model\n",
    "    seq = tokenizer.texts_to_sequences([user_input])[0]\n",
    "    if len(seq) < training_length:\n",
    "        raise ValueError('Input must be at least {} words'.format(training_length))\n",
    "    \n",
    "    seq = seq[: training_length]\n",
    "    print(len(seq))\n",
    "    print('user text ' + ' '.join(idx_word[i] for i in seq))\n",
    "\n",
    "\n",
    "    # print(seq)\n",
    "    \n",
    "\n",
    "    # Choose a random starting point\n",
    "\n",
    "    # seed_idx = random.randint(0, len(seq) - training_length - 10)\n",
    "    seed_idx = 0\n",
    "    # Ending index for seed\n",
    "    # end_idx = seed_idx + training_length\n",
    "    end_idx = seed_idx + training_length\n",
    "    \n",
    "    gen_list = []\n",
    "\n",
    "    for n in range(n_gen):\n",
    "        # Extract the seed sequence\n",
    "        seed = seq[seed_idx:end_idx]\n",
    "        # seed = user_input\n",
    "        # idx_word was created above, this should not be changed or else the encoding will be wrong\n",
    "        original_sequence = [idx_word[i] for i in seed]\n",
    "        print('this is original sequence: ' + ' '.join(original_sequence))\n",
    "        generated = seed[:] + ['#']\n",
    "\n",
    "        # Find the actual entire sequence\n",
    "        # actual = generated[:] + seq[end_idx:end_idx + new_words]\n",
    "\n",
    "        # Keep adding new words\n",
    "        for i in range(new_words):\n",
    "\n",
    "            # Make a prediction from the seed\n",
    "            preds = model.predict(np.array(seed).reshape(1, -1))[0].astype(\n",
    "                np.float64)\n",
    "\n",
    "            # Diversify\n",
    "            preds = np.log(preds) / diversity\n",
    "            exp_preds = np.exp(preds)\n",
    "\n",
    "            # Softmax\n",
    "            preds = exp_preds / sum(exp_preds)\n",
    "\n",
    "            # Choose the next word\n",
    "            probas = np.random.multinomial(1, preds, 1)[0]\n",
    "\n",
    "            # get the word that has the highest probability\n",
    "            next_idx = np.argmax(probas)\n",
    "\n",
    "            # New seed adds on old word\n",
    "            seed = seed[1:] + [next_idx]\n",
    "            generated.append(next_idx)\n",
    "\n",
    "        # Showing generated and actual abstract\n",
    "        n = []\n",
    "\n",
    "        for i in generated:\n",
    "            n.append(idx_word.get(i, '< --- >'))\n",
    "\n",
    "        gen_list.append(n)\n",
    "    \n",
    "\n",
    "    # gen_list = [\n",
    "    #     gen[training_length:training_length + new_words] for gen in gen_list\n",
    "    # ]\n",
    "\n",
    "\n",
    "    if return_output:\n",
    "        return original_sequence, gen_list\n",
    "\n",
    "    # HTML formatting\n",
    "    seed_html = ''\n",
    "    seed_html = addContent(seed_html, header(\n",
    "        'Seed Sequence', color='darkblue'))\n",
    "    seed_html = addContent(seed_html,\n",
    "                           box(remove_spaces(' '.join(original_sequence))))\n",
    "\n",
    "    gen_html = ''\n",
    "    gen_html = addContent(gen_html, header('RNN Generated', color='darkred'))\n",
    "    gen_html = addContent(gen_html, box(remove_spaces(' '.join(gen_list[0]))))\n",
    "\n",
    "    return seed_html, gen_html\n",
    "\n",
    "# If the word did not appear in the tokenizer, there will be an error\n",
    "\n",
    "user_text = 'an apparatus and a method for providing a character deletion function is provided . a plurality of deletion items having respective designated deletion schemes are displayed , when there is a request for a deletion mode while inputting characters . it is determined if a drag event occurs after a press event occurs in an area where one of the plurality of deletion items is displayed . it is determined if a release event occurs when the drag event occurs . a deletion function in a deletion scheme corresponding to a deletion item having an area where the release event occurs is performed when the release event occurs .'\n",
    "\n",
    "seed_html, gen_html = generate_ouput_from_user_input(model, user_text,\n",
    "                                            TRAINING_LENGTH)\n",
    "HTML(seed_html)\n",
    "HTML(gen_html)\n",
    "# print(seed_html)\n",
    "# print(gen_html)"
   ]
  },
  {
   "cell_type": "code",
   "execution_count": null,
   "metadata": {},
   "outputs": [],
   "source": []
  },
  {
   "cell_type": "code",
   "execution_count": null,
   "metadata": {},
   "outputs": [],
   "source": []
  }
 ],
 "metadata": {
  "kernelspec": {
   "display_name": "mlenv",
   "language": "python",
   "name": "python3"
  },
  "language_info": {
   "codemirror_mode": {
    "name": "ipython",
    "version": 3
   },
   "file_extension": ".py",
   "mimetype": "text/x-python",
   "name": "python",
   "nbconvert_exporter": "python",
   "pygments_lexer": "ipython3",
   "version": "3.8.11"
  },
  "orig_nbformat": 4
 },
 "nbformat": 4,
 "nbformat_minor": 2
}
